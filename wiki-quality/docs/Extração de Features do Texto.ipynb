{
 "cells": [
  {
   "cell_type": "markdown",
   "metadata": {},
   "source": [
    "Comando abaixo apenas para que seja possível importar os modulos corretamente"
   ]
  },
  {
   "cell_type": "code",
   "execution_count": 1,
   "metadata": {},
   "outputs": [],
   "source": [
    "import sys\n",
    "sys.path.append(\"../\") "
   ]
  },
  {
   "cell_type": "markdown",
   "metadata": {},
   "source": [
    "# Extração Simples de um único texto"
   ]
  },
  {
   "cell_type": "markdown",
   "metadata": {},
   "source": [
    "Vamos supor que desejamos extrair as features do texto abaixo:"
   ]
  },
  {
   "cell_type": "code",
   "execution_count": 2,
   "metadata": {},
   "outputs": [],
   "source": [
    "texto = \"<h1> oioi</h1>meu nome é Daniel. Tudo bem? :)\""
   ]
  },
  {
   "cell_type": "markdown",
   "metadata": {},
   "source": [
    "Caso desejamos extrair o número de palavras e caracteres no texto, fazemos:\n",
    "1. Imports necessários\n",
    "    - `WordCountFeature` e `CharacterCountFeature`: Features que calculam a quantidade de palavras e caracteres no texto\n",
    "    - `FormatEnum`: Formato do texto a ser processado (HTML ou text_plain)\n",
    "    - `FeatureTimePerDocumentEnum`: Apenas especifica o tempo medio para extrair uma determinada feature\n",
    "    - `FeatureVisibilityEnum`: Verifica se a feature é publica ou não\n",
    "    - `FeatureCalculator`: é a superclasse de todas as features. Dentro dela, há um objeto featManager que é responsável por preprocessar as features\n",
    "    - `Document`: Representa o documento a ser processado"
   ]
  },
  {
   "cell_type": "code",
   "execution_count": 3,
   "metadata": {},
   "outputs": [],
   "source": [
    "from feature.featureImpl.style_features import WordCountFeature,CharacterCountFeature\n",
    "from utils.basic_entities import FormatEnum, FeatureTimePerDocumentEnum\n",
    "from feature.features import  FeatureVisibilityEnum,FeatureCalculator,Document"
   ]
  },
  {
   "cell_type": "markdown",
   "metadata": {},
   "source": [
    "2. Criamos as features:"
   ]
  },
  {
   "cell_type": "code",
   "execution_count": 4,
   "metadata": {},
   "outputs": [],
   "source": [
    "\n",
    "\n",
    "#criamos a feature\n",
    "word_count = WordCountFeature(\"Word Count\",\"Count the number of words in the text.\",\"\",\n",
    "                    FeatureVisibilityEnum.public, FormatEnum.text_plain, \n",
    "                              FeatureTimePerDocumentEnum.MILLISECONDS,ignore_punctuation=True)\n",
    "\n",
    "charCountFeat = CharacterCountFeature(\"Char Count\",\"Count the number of characters in the text.\",\"\",\n",
    "                    FeatureVisibilityEnum.public, FormatEnum.text_plain, \n",
    "                    FeatureTimePerDocumentEnum.MILLISECONDS, ignore_punctuation=False)\n",
    "    \n",
    "arr_features = [word_count,charCountFeat]\n",
    "\n"
   ]
  },
  {
   "cell_type": "markdown",
   "metadata": {},
   "source": [
    "2. Instanciamos o documento:"
   ]
  },
  {
   "cell_type": "code",
   "execution_count": 5,
   "metadata": {},
   "outputs": [],
   "source": [
    "docText = Document(1,\"Documento bonitinho\",texto)\n",
    "\n"
   ]
  },
  {
   "cell_type": "markdown",
   "metadata": {},
   "source": [
    "3. executamos o o metodo para calcular as features passando o quais features temos que calcular e o formato do texto (HTML ou text_plain)\n"
   ]
  },
  {
   "cell_type": "code",
   "execution_count": 6,
   "metadata": {},
   "outputs": [],
   "source": [
    "arr_resultado = FeatureCalculator.featureManager.computeFeatureSet(docText,arr_features,FormatEnum.HTML)"
   ]
  },
  {
   "cell_type": "markdown",
   "metadata": {},
   "source": [
    "O resultado, para cada posição `i` do vetor de features `arr_features`, temos o resultado na posição `i` do vetor `arr_resultados`:"
   ]
  },
  {
   "cell_type": "code",
   "execution_count": 7,
   "metadata": {},
   "outputs": [
    {
     "name": "stdout",
     "output_type": "stream",
     "text": [
      "Word Count: 8\n",
      "Char Count: 36\n"
     ]
    }
   ],
   "source": [
    "for i,feature in enumerate(arr_features):\n",
    "    print(\"{nome_feature}: {resultado}\".format(nome_feature=feature.name,resultado=arr_resultado[i]))"
   ]
  },
  {
   "cell_type": "markdown",
   "metadata": {},
   "source": [
    "# Uso do FeatureFactory para extração de diversas features"
   ]
  },
  {
   "cell_type": "markdown",
   "metadata": {},
   "source": [
    "Como foi possível observar, cada feature deve ser instanciada e configurada para ser usada (por exemplo, o número de caracteres você configura se pode ignorar ou não pontuação). Por causa disso, caso desejamos extrair todas sas features textuais, isso pode ser um processo muito trabalhoso.\n",
    "\n",
    "Pensando nisso, criamos o FeatureFactory, que possui todas as features desenvolvidas com parametros padrão. Você pode instanciar todas as features textuais da seguinte forma:"
   ]
  },
  {
   "cell_type": "markdown",
   "metadata": {},
   "source": [
    "Import necessario: \n",
    "    - `FeatureFactory`: A fabrica da features préconfiguradas\n",
    "    - `LanguageEnum`: Idioma - é importante especificar para algumas features"
   ]
  },
  {
   "cell_type": "code",
   "execution_count": 8,
   "metadata": {},
   "outputs": [],
   "source": [
    "from feature.feature_factory.feature_factory import FeatureFactory \n",
    "from utils.basic_entities import LanguageEnum"
   ]
  },
  {
   "cell_type": "markdown",
   "metadata": {},
   "source": [
    "Existem várias factories de features todas subclasses de `FeatureFactory`. Tais classes implementam o método `createFeatures` que retornam as features instanciadas. "
   ]
  },
  {
   "cell_type": "code",
   "execution_count": 16,
   "metadata": {},
   "outputs": [],
   "source": [
    "#algumas features são dependentes de idioma, assim, você deve especificar o idiom\n",
    "objEnglish = LanguageEnum.en\n",
    "arr_features = []\n",
    "for SubClass in FeatureFactory.__subclasses__():\n",
    "    objFeatFact = None\n",
    "    \n",
    "    if(SubClass.IS_LANGUAGE_DEPENDENT):\n",
    "        objFeatFact = SubClass(objEnglish)\n",
    "    else:\n",
    "        objFeatFact = SubClass()\n",
    "        \n",
    "    #caso a feature não esteja em desenvolvimento, anexar (podem ter features que ainda não fizemos os testes)\n",
    "    if(not SubClass.DEVELOPMENT):\n",
    "        arr_features.extend(objFeatFact.createFeatures())"
   ]
  },
  {
   "cell_type": "code",
   "execution_count": 17,
   "metadata": {},
   "outputs": [
    {
     "name": "stdout",
     "output_type": "stream",
     "text": [
      "0: Section count: Count the number of sections (i.e. HTML h1 tags) in the text\n",
      "1: Subsection count: Count the number of subsections (i.e. HTML h1 tags) in the text\n",
      "2: Complete URL link count: Count the number of  HTML 'a' tag in which the 'href' attribute refers to a complete URL.\n",
      "3: Complete URL link count per section: Ration between number of  HTML 'a' tag in which the 'href' attribute refers to a complete URL and the number of sections.\n",
      "4: Complete URL link count per length: Ration between number of  HTML 'a' tag in which the 'href' attribute refers to a complete URL and the number of characters in text.\n",
      "5: Relative URL link count: Count the number of  HTML 'a' tag in which the 'href' attribute refers to a relative URL (e.g. /images/cow.gif).\n",
      "6: Relative URL link count per section: Ratio between the number of  HTML 'a' tag in which the 'href' attribute refers to a relative URL (e.g. /images/cow.gif) and the number of sections.\n",
      "7: Relative URL link count per length: Ratio between the number of  HTML 'a' tag in which the 'href' attribute refers to a relative URL (e.g. /images/cow.gif) and the number of characters in text.\n",
      "8: Same page link count: Count the number of links which refers to some other elements in the same page. In other words, count the number of HTML 'a' tags in which 'href' points to some html page id. For example, the value '#mainDiv' point to an element in the page which the id is 'mainDiv'.\n",
      "9: Same page link count per section: The ratio between the number of links which refers to some other elements in the same page and the number of sections\n",
      "10: Same page link count per length: The ratio between the number of links which refers to some other elements in the same page and the number of characters in text.\n",
      "11: Mean section size: The ratio between the section size (in characters) and the section count\n",
      "12: Mean subsection size: The ratio between the section size (in characters) and the section count\n",
      "13: Largest section size: The size (in characters) of the largest section.\n",
      "14: Shortest section size: The size (in characters) of the shortest section\n",
      "15: Standard deviation of the section size: Standard deviation of the section size (in characters)\n",
      "16: Images count: Number of images (considering the 'img' HTML tag)\n",
      "17: Images per length: Number of images (considering the 'img' HTML tag) per length (in characters)\n",
      "18: Images per section: The ratio between the number of links (considering the  'img' HTML tag) and the section count\n",
      "19: Images per subsection: The ratio between the number of links (considering the  'img' HTML tag) and the subsection count\n",
      "20: Phrase count: Number of phrases in the text.\n",
      "21: Large phrase count: Count the number of phrases larger than a specified threshold.\n",
      "22: Paragraph count: Count the number of paragraph at text\n",
      "23: Large paragraph count: The number of paragraphs larger than a specified threshold\n",
      "24: Largest phrase size: Compute the size of the largest phrase.\n",
      "25: Large phrase rate: Percentage of phrases whose length is t words more than the average phrase length. Where t is the parameter 'Size threshold'.\n",
      "26: Short phrase rate: Percentage of phrases whose length is t words less than the average phrase length. Where t is the parameter 'Size threshold'.\n",
      "27: Char Count: Count the number of characters in the text.\n",
      "28: Word Count: Count the number of words in the text.\n",
      "29: Articles count: Count the number of articles in the text.\n",
      "30: Auxiliary verbs count: Count the number of auxiliary verbs in the text.\n",
      "31: Coordination conjunctions count: Count the number of coordination conjunctions in the text.\n",
      "32: Correlative conjunctions count: Count the number of correlative conjunctions in the text.\n",
      "33: Indefinite pronouns count: Count the number of indefinite pronouns in the text.\n",
      "34: Interrogative pronouns count: Count the number of interrogative pronouns in the text.\n",
      "35: Prepositions count: Count the number of prepositions in the text.\n",
      "36: Pronouns count: Count the number of pronouns in the text.\n",
      "37: Relative pronoums count: Count the number of relative pronoums in the text.\n",
      "38: Subordinating conjunctions count: Count the number of subordinating conjunctions in the text.\n",
      "39: To be verbs count: Count the number of to be verbs in the text.\n",
      "40: Sentences starting with articles: Count the number of phrases that starts with articles in the text. \n",
      "41: Sentences starting with auxiliary verbs: Count the number of phrases that starts with auxiliary verbs in the text. \n",
      "42: Sentences starting with coordination conjunctions: Count the number of phrases that starts with coordination conjunctions in the text. \n",
      "43: Sentences starting with correlative conjunctions: Count the number of phrases that starts with correlative conjunctions in the text. \n",
      "44: Sentences starting with indefinite pronouns: Count the number of phrases that starts with indefinite pronouns in the text. \n",
      "45: Sentences starting with interrogative pronouns: Count the number of phrases that starts with interrogative pronouns in the text. \n",
      "46: Sentences starting with prepositions: Count the number of phrases that starts with prepositions in the text. \n",
      "47: Sentences starting with pronouns: Count the number of phrases that starts with pronouns in the text. \n",
      "48: Sentences starting with relative pronoums: Count the number of phrases that starts with relative pronoums in the text. \n",
      "49: Sentences starting with subordinating conjunctions: Count the number of phrases that starts with subordinating conjunctions in the text. \n",
      "50: Sentences starting with to be verbs: Count the number of phrases that starts with to be verbs in the text. \n",
      "51: ARI readability feature: Compute the Automated Readability Index metric Based on 'style.c' file from the Software Style and Diction 1.11 in http://ftp.gnu.org/gnu/diction/.\n",
      "52: Coleman-Liau readability feature: Compute the Coleman-Liau metric metric Based on 'style.c' file from the Software Style and Diction 1.11 in http://ftp.gnu.org/gnu/diction/.\n",
      "53: Flesch Reading Ease Readability Feature: Compute the Flesch Reading Ease metric Based on 'style.c' file from the Software Style and Diction 1.11 in http://ftp.gnu.org/gnu/diction/.\n",
      "54: Flesch Kincaid Readability Feature: Compute the Flesch Kincaid metric Based on 'style.c' file from the Software Style and Diction 1.11 in http://ftp.gnu.org/gnu/diction/.\n",
      "55: Gunning Fog Index readability feature: Compute the Gunning Fog metric Based on 'style.c' file from the Software Style and Diction 1.11 in http://ftp.gnu.org/gnu/diction/.\n",
      "56: Lasbarhetsindex readability feature: Compute the Lasbarhetsindex metric Based on 'style.c' file from the Software Style and Diction 1.11 in http://ftp.gnu.org/gnu/diction/.\n",
      "57: SMOG Grading readability feature: Compute the SMOG Grading metric Based on 'style.c' file from the Software Style and Diction 1.11 in http://ftp.gnu.org/gnu/diction/.\n"
     ]
    }
   ],
   "source": [
    "for i,feature in enumerate(arr_features):\n",
    "    print(\"{i}: {name}: {description}\".format(i=i,name=feature.name,description=feature.description))"
   ]
  },
  {
   "cell_type": "markdown",
   "metadata": {},
   "source": [
    "Podemos, assim, calcular o resultado para todas as features dado um texto:"
   ]
  },
  {
   "cell_type": "code",
   "execution_count": 18,
   "metadata": {},
   "outputs": [
    {
     "name": "stdout",
     "output_type": "stream",
     "text": [
      "Section count: 1\n",
      "Subsection count: 0\n",
      "Complete URL link count: 0\n",
      "Complete URL link count per section: 0.0\n",
      "Complete URL link count per length: 0.0\n",
      "Relative URL link count: 0\n",
      "Relative URL link count per section: 0.0\n",
      "Relative URL link count per length: 0.0\n",
      "Same page link count: 0\n",
      "Same page link count per section: 0.0\n",
      "Same page link count per length: 0.0\n",
      "Mean section size: 31.0\n",
      "Mean subsection size: 0\n",
      "Largest section size: 31\n",
      "Shortest section size: 31\n",
      "Standard deviation of the section size: 0\n",
      "Images count: 0\n",
      "Images per length: 0.0\n",
      "Images per section: 0.0\n",
      "Images per subsection: 0.0\n",
      "Phrase count: 3\n",
      "Large phrase count: 0\n",
      "Paragraph count: 1\n",
      "Large paragraph count: 0\n",
      "Largest phrase size: 5\n",
      "Large phrase rate: 0.3333333333333333\n",
      "Short phrase rate: 0.0\n",
      "Char Count: 36\n",
      "Word Count: 8\n",
      "Articles count: 0\n",
      "Auxiliary verbs count: 0\n",
      "Coordination conjunctions count: 0\n",
      "Correlative conjunctions count: 0\n",
      "Indefinite pronouns count: 0\n",
      "Interrogative pronouns count: 0\n",
      "Prepositions count: 0\n",
      "Pronouns count: 0\n",
      "Relative pronoums count: 0\n",
      "Subordinating conjunctions count: 0\n",
      "To be verbs count: 0\n",
      "Sentences starting with articles: 0\n",
      "Sentences starting with auxiliary verbs: 0\n",
      "Sentences starting with coordination conjunctions: 0\n",
      "Sentences starting with correlative conjunctions: 0\n",
      "Sentences starting with indefinite pronouns: 0\n",
      "Sentences starting with interrogative pronouns: 0\n",
      "Sentences starting with prepositions: 0\n",
      "Sentences starting with pronouns: 0\n",
      "Sentences starting with relative pronoums: 0\n",
      "Sentences starting with subordinating conjunctions: 0\n",
      "Sentences starting with to be verbs: 0\n",
      "ARI readability feature: -4.779166666666669\n",
      "Coleman-Liau readability feature: -7.8149999999999995\n",
      "Flesch Reading Ease Readability Feature: 87.80333333333334\n",
      "Flesch Kincaid Readability Feature: 1.6750000000000007\n",
      "Gunning Fog Index readability feature: 1.0666666666666667\n",
      "Lasbarhetsindex readability feature: 2.6666666666666665\n",
      "SMOG Grading readability feature: 5.82842712474619\n"
     ]
    }
   ],
   "source": [
    "arr_resultado = FeatureCalculator.featureManager.computeFeatureSet(docText,arr_features,FormatEnum.HTML)\n",
    "for i,feature in enumerate(arr_features):\n",
    "    print(\"{nome_feature}: {resultado}\".format(nome_feature=feature.name,resultado=arr_resultado[i]))"
   ]
  }
 ],
 "metadata": {
  "kernelspec": {
   "display_name": "Python 3",
   "language": "python",
   "name": "python3"
  },
  "language_info": {
   "codemirror_mode": {
    "name": "ipython",
    "version": 3
   },
   "file_extension": ".py",
   "mimetype": "text/x-python",
   "name": "python",
   "nbconvert_exporter": "python",
   "pygments_lexer": "ipython3",
   "version": "3.6.8"
  }
 },
 "nbformat": 4,
 "nbformat_minor": 2
}
