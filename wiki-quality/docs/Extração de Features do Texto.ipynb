{
 "cells": [
  {
   "cell_type": "markdown",
   "metadata": {},
   "source": [
    "Comando abaixo apenas para que seja possível importar os modulos corretamente"
   ]
  },
  {
   "cell_type": "code",
   "execution_count": 1,
   "metadata": {
    "collapsed": true
   },
   "outputs": [],
   "source": [
    "import sys\n",
    "sys.path.append(\"../\") "
   ]
  },
  {
   "cell_type": "markdown",
   "metadata": {},
   "source": [
    "# Extração Simples de um único texto"
   ]
  },
  {
   "cell_type": "markdown",
   "metadata": {},
   "source": [
    "Vamos supor que desejamos extrair as features do texto abaixo:"
   ]
  },
  {
   "cell_type": "code",
   "execution_count": 2,
   "metadata": {
    "collapsed": true
   },
   "outputs": [],
   "source": [
    "texto = \"<h1> oioi</h1>meu nome é Daniel. Tudo bem? :)\""
   ]
  },
  {
   "cell_type": "markdown",
   "metadata": {},
   "source": [
    "Caso desejamos extrair o número de palavras e caracteres no texto, fazemos:\n",
    "1. Imports necessários\n",
    "    - `WordCountFeature` e `CharacterCountFeature`: Features que calculam a quantidade de palavras e caracteres no texto\n",
    "    - `FormatEnum`: Formato do texto a ser processado (HTML ou text_plain)\n",
    "    - `FeatureTimePerDocumentEnum`: Apenas especifica o tempo medio para extrair uma determinada feature\n",
    "    - `FeatureVisibilityEnum`: Verifica se a feature é publica ou não\n",
    "    - `FeatureCalculator`: é a superclasse de todas as features. Dentro dela, há um objeto featManager que é responsável por preprocessar as features\n",
    "    - `Document`: Representa o documento a ser processado"
   ]
  },
  {
   "cell_type": "code",
   "execution_count": 3,
   "metadata": {
    "collapsed": true
   },
   "outputs": [],
   "source": [
    "from feature.featureImpl.style_features import WordCountFeature,CharacterCountFeature\n",
    "from utils.basic_entities import FormatEnum, FeatureTimePerDocumentEnum\n",
    "from feature.features import  FeatureVisibilityEnum,FeatureCalculator,Document"
   ]
  },
  {
   "cell_type": "markdown",
   "metadata": {},
   "source": [
    "2. Criamos as features:"
   ]
  },
  {
   "cell_type": "code",
   "execution_count": 4,
   "metadata": {
    "collapsed": true
   },
   "outputs": [],
   "source": [
    "\n",
    "\n",
    "#criamos a feature\n",
    "word_count = WordCountFeature(\"Word Count\",\"Count the number of words in the text.\",\"\",\n",
    "                    FeatureVisibilityEnum.public, FormatEnum.text_plain, \n",
    "                              FeatureTimePerDocumentEnum.MILLISECONDS,ignore_punctuation=True)\n",
    "\n",
    "charCountFeat = CharacterCountFeature(\"Char Count\",\"Count the number of characters in the text.\",\"\",\n",
    "                    FeatureVisibilityEnum.public, FormatEnum.text_plain, \n",
    "                    FeatureTimePerDocumentEnum.MILLISECONDS, ignore_punctuation=False)\n",
    "    \n",
    "arr_features = [word_count,charCountFeat]\n",
    "\n"
   ]
  },
  {
   "cell_type": "markdown",
   "metadata": {},
   "source": [
    "2. Instanciamos o documento:"
   ]
  },
  {
   "cell_type": "code",
   "execution_count": 5,
   "metadata": {
    "collapsed": true
   },
   "outputs": [],
   "source": [
    "docText = Document(1,\"Documento bonitinho\",texto)\n",
    "\n"
   ]
  },
  {
   "cell_type": "markdown",
   "metadata": {},
   "source": [
    "3. executamos o o metodo para calcular as features passando o quais features temos que calcular e o formato do texto (HTML ou text_plain)\n"
   ]
  },
  {
   "cell_type": "code",
   "execution_count": 6,
   "metadata": {
    "collapsed": true
   },
   "outputs": [],
   "source": [
    "arr_resultado = FeatureCalculator.featureManager.computeFeatureSet(docText,arr_features,FormatEnum.HTML)"
   ]
  },
  {
   "cell_type": "markdown",
   "metadata": {},
   "source": [
    "O resultado, para cada posição `i` do vetor de features `arr_features`, temos o resultado na posição `i` do vetor `arr_resultados`:"
   ]
  },
  {
   "cell_type": "code",
   "execution_count": 7,
   "metadata": {
    "collapsed": false
   },
   "outputs": [
    {
     "name": "stdout",
     "output_type": "stream",
     "text": [
      "Word Count: 8\n",
      "Char Count: 36\n"
     ]
    }
   ],
   "source": [
    "for i,feature in enumerate(arr_features):\n",
    "    print(\"{nome_feature}: {resultado}\".format(nome_feature=feature.name,resultado=arr_resultado[i]))"
   ]
  },
  {
   "cell_type": "markdown",
   "metadata": {},
   "source": [
    "# Uso do FeatureFactory para extração de diversas features"
   ]
  },
  {
   "cell_type": "markdown",
   "metadata": {},
   "source": [
    "Como foi possível observar, cada feature deve ser instanciada e configurada para ser usada (por exemplo, o número de caracteres você configura se pode ignorar ou não pontuação). Por causa disso, caso desejamos extrair todas sas features textuais, isso pode ser um processo muito trabalhoso.\n",
    "\n",
    "Pensando nisso, criamos o FeatureFactory, que possui todas as features desenvolvidas com parametros padrão. Você pode instanciar todas as features textuais da seguinte forma:"
   ]
  },
  {
   "cell_type": "markdown",
   "metadata": {},
   "source": [
    "Import necessario: \n",
    "    - `FeatureFactory`: A fabrica da features préconfiguradas\n",
    "    - `LanguageEnum`: Idioma - é importante especificar para algumas features"
   ]
  },
  {
   "cell_type": "code",
   "execution_count": 8,
   "metadata": {
    "collapsed": false
   },
   "outputs": [
    {
     "ename": "ImportError",
     "evalue": "No module named 'django'",
     "output_type": "error",
     "traceback": [
      "\u001b[0;31m---------------------------------------------------------------------------\u001b[0m",
      "\u001b[0;31mImportError\u001b[0m                               Traceback (most recent call last)",
      "\u001b[0;32m<ipython-input-8-9742ece2be9a>\u001b[0m in \u001b[0;36m<module>\u001b[0;34m()\u001b[0m\n\u001b[0;32m----> 1\u001b[0;31m \u001b[0;32mfrom\u001b[0m \u001b[0mfeature\u001b[0m\u001b[0;34m.\u001b[0m\u001b[0mfeature_factory\u001b[0m\u001b[0;34m.\u001b[0m\u001b[0mfeature_factory\u001b[0m \u001b[0;32mimport\u001b[0m \u001b[0mFeatureFactory\u001b[0m\u001b[0;34m\u001b[0m\u001b[0m\n\u001b[0m\u001b[1;32m      2\u001b[0m \u001b[0;32mfrom\u001b[0m \u001b[0mutils\u001b[0m\u001b[0;34m.\u001b[0m\u001b[0mbasic_entities\u001b[0m \u001b[0;32mimport\u001b[0m \u001b[0mLanguageEnum\u001b[0m\u001b[0;34m\u001b[0m\u001b[0m\n",
      "\u001b[0;32m/home/biasouza/Área de trabalho/IC/wiki-quality/wiki-quality/feature/feature_factory/feature_factory.py\u001b[0m in \u001b[0;36m<module>\u001b[0;34m()\u001b[0m\n\u001b[1;32m      6\u001b[0m '''\n\u001b[1;32m      7\u001b[0m \u001b[0;32mfrom\u001b[0m \u001b[0mabc\u001b[0m \u001b[0;32mimport\u001b[0m \u001b[0mabstractmethod\u001b[0m\u001b[0;34m\u001b[0m\u001b[0m\n\u001b[0;32m----> 8\u001b[0;31m \u001b[0;32mfrom\u001b[0m \u001b[0mdjango\u001b[0m\u001b[0;34m.\u001b[0m\u001b[0mcontrib\u001b[0m\u001b[0;34m.\u001b[0m\u001b[0msessions\u001b[0m\u001b[0;34m.\u001b[0m\u001b[0mbackends\u001b[0m \u001b[0;32mimport\u001b[0m \u001b[0mfile\u001b[0m\u001b[0;34m\u001b[0m\u001b[0m\n\u001b[0m\u001b[1;32m      9\u001b[0m \u001b[0;34m\u001b[0m\u001b[0m\n\u001b[1;32m     10\u001b[0m \u001b[0;32mfrom\u001b[0m \u001b[0mfeature\u001b[0m\u001b[0;34m.\u001b[0m\u001b[0mfeatures\u001b[0m \u001b[0;32mimport\u001b[0m \u001b[0mConfigurableParam\u001b[0m\u001b[0;34m,\u001b[0m \u001b[0mParamTypeEnum\u001b[0m\u001b[0;34m\u001b[0m\u001b[0m\n",
      "\u001b[0;31mImportError\u001b[0m: No module named 'django'"
     ]
    }
   ],
   "source": [
    "from feature.feature_factory.feature_factory import FeatureFactory \n",
    "from utils.basic_entities import LanguageEnum"
   ]
  },
  {
   "cell_type": "markdown",
   "metadata": {},
   "source": [
    "Existem várias factories de features todas subclasses de `FeatureFactory`. Tais classes implementam o método `createFeatures` que retornam as features instanciadas. "
   ]
  },
  {
   "cell_type": "code",
   "execution_count": 11,
   "metadata": {
    "collapsed": false
   },
   "outputs": [
    {
     "ename": "NameError",
     "evalue": "name 'LanguageEnum' is not defined",
     "output_type": "error",
     "traceback": [
      "\u001b[0;31m---------------------------------------------------------------------------\u001b[0m",
      "\u001b[0;31mNameError\u001b[0m                                 Traceback (most recent call last)",
      "\u001b[0;32m<ipython-input-11-feff409d7183>\u001b[0m in \u001b[0;36m<module>\u001b[0;34m()\u001b[0m\n\u001b[1;32m      1\u001b[0m \u001b[0;31m#algumas features são dependentes de idioma, assim, você deve especificar o idiom\u001b[0m\u001b[0;34m\u001b[0m\u001b[0;34m\u001b[0m\u001b[0m\n\u001b[0;32m----> 2\u001b[0;31m \u001b[0mobjEnglish\u001b[0m \u001b[0;34m=\u001b[0m \u001b[0mLanguageEnum\u001b[0m\u001b[0;34m.\u001b[0m\u001b[0men\u001b[0m\u001b[0;34m\u001b[0m\u001b[0m\n\u001b[0m\u001b[1;32m      3\u001b[0m \u001b[0marr_features\u001b[0m \u001b[0;34m=\u001b[0m \u001b[0;34m[\u001b[0m\u001b[0;34m]\u001b[0m\u001b[0;34m\u001b[0m\u001b[0m\n\u001b[1;32m      4\u001b[0m \u001b[0;32mfor\u001b[0m \u001b[0mSubClass\u001b[0m \u001b[0;32min\u001b[0m \u001b[0mFeatureFactory\u001b[0m\u001b[0;34m.\u001b[0m\u001b[0m__subclasses__\u001b[0m\u001b[0;34m(\u001b[0m\u001b[0;34m)\u001b[0m\u001b[0;34m:\u001b[0m\u001b[0;34m\u001b[0m\u001b[0m\n\u001b[1;32m      5\u001b[0m     \u001b[0mobjFeatFact\u001b[0m \u001b[0;34m=\u001b[0m \u001b[0;32mNone\u001b[0m\u001b[0;34m\u001b[0m\u001b[0m\n",
      "\u001b[0;31mNameError\u001b[0m: name 'LanguageEnum' is not defined"
     ]
    }
   ],
   "source": [
    "#algumas features são dependentes de idioma, assim, você deve especificar o idiom\n",
    "objEnglish = LanguageEnum.en\n",
    "arr_features = []\n",
    "for SubClass in FeatureFactory.__subclasses__():\n",
    "    objFeatFact = None\n",
    "    \n",
    "    if(SubClass.IS_LANGUAGE_DEPENDENT):\n",
    "        objFeatFact = SubClass(objEnglish)\n",
    "    else:\n",
    "        objFeatFact = SubClass()\n",
    "        \n",
    "    #caso a feature não esteja em desenvolvimento, anexar (podem ter features que ainda não fizemos os testes)\n",
    "    if(not SubClass.DEVELOPMENT):\n",
    "        arr_features.extend(objFeatFact.createFeatures())"
   ]
  },
  {
   "cell_type": "code",
   "execution_count": 10,
   "metadata": {
    "collapsed": false
   },
   "outputs": [
    {
     "name": "stdout",
     "output_type": "stream",
     "text": [
      "0: Word Count: Count the number of words in the text.\n",
      "1: Char Count: Count the number of characters in the text.\n"
     ]
    }
   ],
   "source": [
    "for i,feature in enumerate(arr_features):\n",
    "    print(\"{i}: {name}: {description}\".format(i=i,name=feature.name,description=feature.description))"
   ]
  },
  {
   "cell_type": "markdown",
   "metadata": {},
   "source": [
    "Podemos, assim, calcular o resultado para todas as features dado um texto:"
   ]
  },
  {
   "cell_type": "code",
   "execution_count": 9,
   "metadata": {
    "collapsed": false
   },
   "outputs": [
    {
     "name": "stdout",
     "output_type": "stream",
     "text": [
      "Word Count: 8\n",
      "Char Count: 36\n"
     ]
    }
   ],
   "source": [
    "arr_resultado = FeatureCalculator.featureManager.computeFeatureSet(docText,arr_features,FormatEnum.HTML)\n",
    "for i,feature in enumerate(arr_features):\n",
    "    print(\"{nome_feature}: {resultado}\".format(nome_feature=feature.name,resultado=arr_resultado[i]))"
   ]
  },
  {
   "cell_type": "code",
   "execution_count": null,
   "metadata": {
    "collapsed": true
   },
   "outputs": [],
   "source": []
  }
 ],
 "metadata": {
  "kernelspec": {
   "display_name": "Python 3",
   "language": "python",
   "name": "python3"
  },
  "language_info": {
   "codemirror_mode": {
    "name": "ipython",
    "version": 3
   },
   "file_extension": ".py",
   "mimetype": "text/x-python",
   "name": "python",
   "nbconvert_exporter": "python",
   "pygments_lexer": "ipython3",
   "version": "3.5.3"
  }
 },
 "nbformat": 4,
 "nbformat_minor": 2
}
