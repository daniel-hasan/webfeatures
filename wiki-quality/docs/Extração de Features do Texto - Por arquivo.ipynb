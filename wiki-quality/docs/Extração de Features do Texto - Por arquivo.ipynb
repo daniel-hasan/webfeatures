{
 "cells": [
  {
   "cell_type": "markdown",
   "metadata": {},
   "source": [
    "Comando abaixo apenas para que seja possÃ­vel importar os modulos corretamente"
   ]
  },
  {
   "cell_type": "code",
   "execution_count": 2,
   "metadata": {},
   "outputs": [],
   "source": [
    "import sys\n",
    "sys.path.append(\"../\") "
   ]
  },
  {
   "cell_type": "code",
   "execution_count": 3,
   "metadata": {},
   "outputs": [],
   "source": [
    "from feature.feature_factory.feature_factory import FeatureFactory \n",
    "from utils.basic_entities import LanguageEnum"
   ]
  },
  {
   "cell_type": "markdown",
   "metadata": {},
   "source": [
    "Existem vÃ¡rias factories de features todas subclasses de `FeatureFactory`. Tais classes implementam o mÃ©todo `createFeatures` que retornam as features instanciadas. "
   ]
  },
  {
   "cell_type": "code",
   "execution_count": 4,
   "metadata": {},
   "outputs": [
    {
     "ename": "AttributeError",
     "evalue": "type object 'StructureFeatureFactory' has no attribute 'DEVELOPMENT'",
     "output_type": "error",
     "traceback": [
      "\u001b[0;31m---------------------------------------------------------------------------\u001b[0m",
      "\u001b[0;31mAttributeError\u001b[0m                            Traceback (most recent call last)",
      "\u001b[0;32m<ipython-input-4-767c35d420ea>\u001b[0m in \u001b[0;36m<module>\u001b[0;34m\u001b[0m\n\u001b[1;32m     11\u001b[0m \u001b[0;34m\u001b[0m\u001b[0m\n\u001b[1;32m     12\u001b[0m     \u001b[0;31m#caso a feature nÃ£o esteja em desenvolvimento, anexar (podem ter features que ainda nÃ£o fizemos os testes)\u001b[0m\u001b[0;34m\u001b[0m\u001b[0;34m\u001b[0m\u001b[0;34m\u001b[0m\u001b[0m\n\u001b[0;32m---> 13\u001b[0;31m     \u001b[0;32mif\u001b[0m\u001b[0;34m(\u001b[0m\u001b[0;32mnot\u001b[0m \u001b[0mSubClass\u001b[0m\u001b[0;34m.\u001b[0m\u001b[0mDEVELOPMENT\u001b[0m\u001b[0;34m)\u001b[0m\u001b[0;34m:\u001b[0m\u001b[0;34m\u001b[0m\u001b[0;34m\u001b[0m\u001b[0m\n\u001b[0m\u001b[1;32m     14\u001b[0m         \u001b[0marr_features\u001b[0m\u001b[0;34m.\u001b[0m\u001b[0mextend\u001b[0m\u001b[0;34m(\u001b[0m\u001b[0mobjFeatFact\u001b[0m\u001b[0;34m.\u001b[0m\u001b[0mcreateFeatures\u001b[0m\u001b[0;34m(\u001b[0m\u001b[0;34m)\u001b[0m\u001b[0;34m)\u001b[0m\u001b[0;34m\u001b[0m\u001b[0;34m\u001b[0m\u001b[0m\n",
      "\u001b[0;31mAttributeError\u001b[0m: type object 'StructureFeatureFactory' has no attribute 'DEVELOPMENT'"
     ]
    }
   ],
   "source": [
    "#algumas features sÃ£o dependentes de idioma, assim, vocÃª deve especificar o idiom\n",
    "objEnglish = LanguageEnum.en\n",
    "arr_features = []\n",
    "for SubClass in FeatureFactory.__subclasses__():\n",
    "    objFeatFact = None\n",
    "    \n",
    "    if(SubClass.IS_LANGUAGE_DEPENDENT):\n",
    "        objFeatFact = SubClass(objEnglish)\n",
    "    else:\n",
    "        objFeatFact = SubClass()\n",
    "        \n",
    "    #caso a feature nÃ£o esteja em desenvolvimento, anexar (podem ter features que ainda nÃ£o fizemos os testes)\n",
    "    if(not SubClass.DEVELOPMENT):\n",
    "        arr_features.extend(objFeatFact.createFeatures())"
   ]
  },
  {
   "cell_type": "code",
   "execution_count": 5,
   "metadata": {},
   "outputs": [],
   "source": [
    "for i,feature in enumerate(arr_features):\n",
    "    print(\"{i}: {name}: {description}\".format(i=i,name=feature.name,description=feature.description))"
   ]
  },
  {
   "cell_type": "code",
   "execution_count": null,
   "metadata": {},
   "outputs": [],
   "source": [
    "#restringir apenas as textuais\n"
   ]
  },
  {
   "cell_type": "markdown",
   "metadata": {},
   "source": [
    "Podemos, assim, calcular o resultado para todas as features dado um texto:"
   ]
  },
  {
   "cell_type": "code",
   "execution_count": 9,
   "metadata": {},
   "outputs": [
    {
     "name": "stdout",
     "output_type": "stream",
     "text": [
      "Section count: 1\n",
      "Subsection count: 0\n",
      "Complete URL link count: 0\n",
      "Complete URL link count per section: 0.0\n",
      "Complete URL link count per length: 0.0\n",
      "Relative URL link count: 0\n",
      "Relative URL link count per section: 0.0\n",
      "Relative URL link count per length: 0.0\n",
      "Same page link count: 0\n",
      "Same page link count per section: 0.0\n",
      "Same page link count per length: 0.0\n",
      "Mean section size: 32.0\n",
      "Mean subsection size: 0\n",
      "Largest section size: 32\n",
      "Shortest section size: 32\n",
      "Standard deviation of the section size: 0\n",
      "Images count: 0\n",
      "Images per length: 0.0\n",
      "Images per section: 0.0\n",
      "Images per subsection: 0.0\n",
      "Phrase count: 3\n",
      "Large phrase count: 0\n",
      "Paragraph count: 1\n",
      "Large paragraph count: 0\n",
      "Largest phrase size: 5\n",
      "Large phrase rate: 0.3333333333333333\n",
      "Short phrase rate: 0.0\n",
      "Char Count: 37\n",
      "Word Count: 8\n",
      "Articles count: 0\n",
      "Auxiliary verbs count: 0\n",
      "Coordination conjunctions count: 0\n",
      "Correlative conjunctions count: 0\n",
      "Indefinite pronouns count: 0\n",
      "Interrogative pronouns count: 0\n",
      "Prepositions count: 0\n",
      "Pronouns count: 0\n",
      "Relative pronoums count: 0\n",
      "Subordinating conjunctions count: 0\n",
      "To be verbs count: 0\n",
      "Sentences starting with articles: 0\n",
      "Sentences starting with auxiliary verbs: 0\n",
      "Sentences starting with coordination conjunctions: 0\n",
      "Sentences starting with correlative conjunctions: 0\n",
      "Sentences starting with indefinite pronouns: 0\n",
      "Sentences starting with interrogative pronouns: 0\n",
      "Sentences starting with prepositions: 0\n",
      "Sentences starting with pronouns: 0\n",
      "Sentences starting with relative pronoums: 0\n",
      "Sentences starting with subordinating conjunctions: 0\n",
      "Sentences starting with to be verbs: 0\n",
      "ARI readability feature: -4.190416666666668\n",
      "Coleman-Liau readability feature: -7.081249999999999\n",
      "Flesch Reading Ease Readability Feature: 87.80333333333334\n",
      "Flesch Kincaid Readability Feature: 1.6750000000000007\n",
      "Gunning Fog Index readability feature: 1.0666666666666667\n",
      "Lasbarhetsindex readability feature: 2.6666666666666665\n",
      "SMOG Grading readability feature: 5.82842712474619\n"
     ]
    }
   ],
   "source": [
    "arr_resultado = FeatureCalculator.featureManager.computeFeatureSet(docText,arr_features,FormatEnum.HTML)\n",
    "for i,feature in enumerate(arr_features):\n",
    "    print(\"{nome_feature}: {resultado}\".format(nome_feature=feature.name,resultado=arr_resultado[i]))"
   ]
  },
  {
   "cell_type": "code",
   "execution_count": 11,
   "metadata": {},
   "outputs": [
    {
     "name": "stdout",
     "output_type": "stream",
     "text": [
      "<csv.DictReader object at 0x7f0e8e68c7f0>\n"
     ]
    }
   ],
   "source": [
    "import csv\n",
    "\n",
    "entrada = '../../data/raw/2020_diabetes.csv'\n",
    "saida = '../../data/processed/diabetes_features_questao.csv'\n",
    "coluna = 'Questão'\n",
    "with open(saida, 'w') as saida, open(entrada, 'r') as entrada:\n",
    "    saida_csv = csv.writer(saida)\n",
    "    \n",
    "    #linha do cabeçalho\n",
    "    arr_cabecalho = []\n",
    "    for i,feature in enumerate(arr_features):\n",
    "        arr_cabecalho.append(feature.name)\n",
    "    saida_csv.writerow(arr_cabecalho)\n",
    "    \n",
    "    #le o dataset, uma linha por vez e grava as features\n",
    "    entrada_csv = csv.DictReader(entrada)\n",
    "    print(entrada_csv)\n",
    "    for linha in entrada_csv:\n",
    "        docText = Document(1,\"titulo\",linha[coluna])\n",
    "        arr_resultado = FeatureCalculator.featureManager.computeFeatureSet(docText,arr_features,FormatEnum.HTML)\n",
    "        saida_csv.writerow(arr_resultado)\n"
   ]
  }
 ],
 "metadata": {
  "kernelspec": {
   "display_name": "Python 3",
   "language": "python",
   "name": "python3"
  },
  "language_info": {
   "codemirror_mode": {
    "name": "ipython",
    "version": 3
   },
   "file_extension": ".py",
   "mimetype": "text/x-python",
   "name": "python",
   "nbconvert_exporter": "python",
   "pygments_lexer": "ipython3",
   "version": "3.6.9"
  }
 },
 "nbformat": 4,
 "nbformat_minor": 2
}
