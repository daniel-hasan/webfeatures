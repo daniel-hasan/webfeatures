{
 "cells": [
  {
   "cell_type": "markdown",
   "metadata": {},
   "source": [
    "Comando abaixo apenas para que seja possível importar os modulos corretamente"
   ]
  },
  {
   "cell_type": "code",
   "execution_count": 1,
   "metadata": {
    "collapsed": true
   },
   "outputs": [],
   "source": [
    "import sys\n",
    "sys.path.append(\"../\") "
   ]
  },
  {
   "cell_type": "markdown",
   "metadata": {},
   "source": [
    "# Criação de uma Feature de Estrutura"
   ]
  },
  {
   "cell_type": "markdown",
   "metadata": {},
   "source": [
    "As features de estrutura são features que calculam métricas baseadas na estrutura do texto. Em um texto HTML, por exemplo, essas métricas são calculadas com relevância em tags e texto puro. Algumas métricas estruturais são TagBasedFeature, baseando os cálculos no tagueamento do texto."
   ]
  },
  {
   "cell_type": "markdown",
   "metadata": {},
   "source": [
    "## TagBasedFeature"
   ]
  },
  {
   "cell_type": "markdown",
   "metadata": {},
   "source": [
    "Uma TagBasedFeature considera tags inicial e final, além do conteúdo textual de um documento HTML. Neste projeto, utilizou-se a biblioteca HTMLParser do Python3, que é um parser para HTML simples e XHTML. Para saber mais sobre essa biblioteca e aprender sobre os métodos utilizados neste projeto, acesse: https://docs.python.org/3/library/html.parser.html."
   ]
  },
  {
   "cell_type": "markdown",
   "metadata": {},
   "source": [
    "### Entendendo o ParserTags"
   ]
  },
  {
   "cell_type": "markdown",
   "metadata": {
    "collapsed": true
   },
   "source": [
    "A biblioteca HTMLParser contém a interface ParserTags, que é a classe responsável por recolher e classificar as tags de um documento HTML. No bloco abaixo exemplifica-se a importação da biblioteca e o uso dos métodos. A implementação dos métodos foi abstraída."
   ]
  },
  {
   "cell_type": "code",
   "execution_count": 2,
   "metadata": {},
   "outputs": [],
   "source": [
    "from html.parser import HTMLParser\n",
    "\n",
    "class ParserTags(HTMLParser):\n",
    "    def __init__(self, arrParserFeats, document):\n",
    "        super(HTMLParser,self).__init__(self)\n",
    "    \n",
    "    def handle_data(self,str_data):\n",
    "        pass\n",
    "\n",
    "    def handle_starttag(self, tag, attrs):\n",
    "        pass\n",
    "        \n",
    "    def handle_endtag(self, tag):\n",
    "        pass"
   ]
  },
  {
   "cell_type": "markdown",
   "metadata": {},
   "source": [
    "A implementação do ParserTags pode ser vista no módulo feature.features. Ela foi recriada de modo a tentar diminuir o custo de processamento, já que várias features de estrutura podem ser executadas por documento. A lógica foi separar o processamento pelos tipo de tag: inicial (ex. &lt;p>), final (ex. &lt;/p>) e os dados puros do HTML (ex. o texto contido em um parágrafo). Essa separação ocorre de modo a criar diferentes listas de features a serem executadas a partir da lista inicial, que contém todas as requisições de TagBasedFeature. Abaixo, um recorte da implementação contida no módulo features."
   ]
  },
  {
   "cell_type": "code",
   "execution_count": 3,
   "metadata": {
    "collapsed": true
   },
   "outputs": [],
   "source": [
    "class ParserTags(HTMLParser):\n",
    "    \n",
    "    def handle_data(self,str_data):\n",
    "            if(self.firstTimeData):\n",
    "                self.arrFeatsData = [feat for feat in self.arrParserFeats if feat.data(self.document, str_data)]\n",
    "                self.firstTimeData = False\n",
    "            else:\n",
    "                for feat in self.arrFeatsData:\n",
    "                    feat.data(self.document, str_data)"
   ]
  },
  {
   "cell_type": "markdown",
   "metadata": {},
   "source": [
    "O código contém booleanos que marcam a primeira execução de cada método do ParserTags. Quando a primeira execução é realizada, a lista de features a serem processadas é dividida nas categorias citadas, ou seja, em três outras listas. Essa divisão é feita pelo \"for pythonico\" que pode ser observado no código acima, onde um método TagBasedFeature, que será  exemplificado posteriormente, é chamado na primeira execução. Caso a execução não for a primeira e a divisão das listas já tiverem sido feitas, o respectivo método TagBasedFeature é chamado novamente."
   ]
  },
  {
   "cell_type": "markdown",
   "metadata": {},
   "source": [
    "A implementação aplicada ao contexto do método handle_data é aplicada ao contexto dos outros métodos dessa classe, cada um com seu respectivo método TagBased."
   ]
  },
  {
   "cell_type": "markdown",
   "metadata": {},
   "source": [
    "O planejamento apresentado garante que o parser execute somente uma vez por documento, e não a cada vez que uma TagBasedFeature é executada, já que um documento pode requisitar várias features desse tipo."
   ]
  },
  {
   "cell_type": "markdown",
   "metadata": {},
   "source": [
    "### Entendendo o TagBasedFeature"
   ]
  },
  {
   "cell_type": "markdown",
   "metadata": {},
   "source": [
    "Uma feature TagBased leva em consideração as tags presentes em um documento HTML. as tags HTML podem ser divididas em tags iniciais e finais. Podemos considerar o conteúdo textual presente, que chamamos de dados. Vejamos o exemplo da seção \"form\":"
   ]
  },
  {
   "cell_type": "markdown",
   "metadata": {},
   "source": [
    "```<form action=\"example.php\" method=\"get\">\n",
    "</form>```"
   ]
  },
  {
   "cell_type": "markdown",
   "metadata": {},
   "source": [
    "Vimos que a seção possui uma tag inicial com dois atributos (action e method) e uma tag final. Uma TagBasedFeature considera todos esses dados, incluindo atributos. Inicialmente, os 3 métodos dessa classe retornam o valor falso, retornando verdadeiro de acordo com o tipo de tag utilizada na feature implementada. O objetivo é diminuir a alocação de métodos que não estão sendo utilizados, como mencionado anteriormente na classe ParserTags."
   ]
  },
  {
   "cell_type": "markdown",
   "metadata": {},
   "source": [
    "## Implementando uma TagBasedFeature"
   ]
  },
  {
   "cell_type": "markdown",
   "metadata": {},
   "source": [
    "Com todas as questões já discutidas, façamos a implementação de uma TagBasedFeature de exemplo. A classe FormRatio calcula a proporção entre métodos get e post de formulários. Para isso, precisamos utilizar a tag form inicial e seus atributos para verificarmos qual tipo de método está sendo utilizado na submissão. Abaixo temos a implementação da feature de exemplo."
   ]
  },
  {
   "cell_type": "code",
   "execution_count": 4,
   "metadata": {},
   "outputs": [],
   "source": [
    "from feature.features import TagBasedFeature\n",
    "\n",
    "class FormRatio(TagBasedFeature):\n",
    "    def __init__(self,name,description,reference,visibility,text_format,feature_time_per_document):\n",
    "        super(TagBasedFeature,self).__init__(name,description,reference,visibility,text_format,feature_time_per_document)\n",
    "        self.int_get_method = 0\n",
    "        self.int_post_method = 0\n",
    "    \n",
    "    def isFormTag(tag):\n",
    "        if tag is \"form\":\n",
    "            return True\n",
    "        return False\n",
    "    \n",
    "    def startTag(self,document,tag,attrs):\n",
    "        if(self.isFormTag(tag)):\n",
    "            for item in attrs:\n",
    "                if item[0] is \"method\" and item[1] is \"get\":\n",
    "                    self.int_get_method = self.int_get_method + 1\n",
    "                if item[0] is \"method\" and item[1] is \"post\":\n",
    "                    self.int_post_method = self.int_post_method + 1\n",
    "        super.startTag(document,tag,attrs)\n",
    "        return True\n",
    "    \n",
    "    def compute_feature(self,document):\n",
    "        return self.int_get_method/self.int_post_method\n",
    "    \n",
    "    def finish_document(self,document):\n",
    "        self.int_get_method = 0\n",
    "        self.int_post_method = 0"
   ]
  },
  {
   "cell_type": "markdown",
   "metadata": {},
   "source": [
    "A classe acima verifica se a tag é um formulário, e após isso conta quantos métodos get e post possuem no documento. Com esses dados recolhidos, calcula a razão entre a ocorrência dos dois métodos."
   ]
  },
  {
   "cell_type": "markdown",
   "metadata": {},
   "source": [
    "## Testando a feature implementada"
   ]
  },
  {
   "cell_type": "markdown",
   "metadata": {},
   "source": [
    "Para fazer o teste manual da classe implementada, executamos seus métodos nas suas respectivas funções. Abaixo um código de teste para a execução da feature, em teste unitário."
   ]
  },
  {
   "cell_type": "code",
   "execution_count": 6,
   "metadata": {},
   "outputs": [
    {
     "name": "stderr",
     "output_type": "stream",
     "text": [
      "E\n",
      "======================================================================\n",
      "ERROR: testParser (__main__.TestTagBased)\n",
      "----------------------------------------------------------------------\n",
      "Traceback (most recent call last):\n",
      "  File \"<ipython-input-6-f84a4be92e24>\", line 14, in testParser\n",
      "    tcount.feed(\"<head></head><body>Dados<p>Parágrafo</p><h1><h123> de teste</body>\")\n",
      "AttributeError: 'FormRatio' object has no attribute 'feed'\n",
      "\n",
      "----------------------------------------------------------------------\n",
      "Ran 1 test in 0.002s\n",
      "\n",
      "FAILED (errors=1)\n"
     ]
    },
    {
     "ename": "SystemExit",
     "evalue": "True",
     "output_type": "error",
     "traceback": [
      "An exception has occurred, use %tb to see the full traceback.\n",
      "\u001b[0;31mSystemExit\u001b[0m\u001b[0;31m:\u001b[0m True\n"
     ]
    },
    {
     "name": "stderr",
     "output_type": "stream",
     "text": [
      "/usr/lib/python3/dist-packages/IPython/core/interactiveshell.py:2889: UserWarning: To exit: use 'exit', 'quit', or Ctrl-D.\n",
      "  warn(\"To exit: use 'exit', 'quit', or Ctrl-D.\", stacklevel=1)\n"
     ]
    }
   ],
   "source": [
    "import unittest\n",
    "from feature.features import FeatureVisibilityEnum, Document, FeatureCalculator\n",
    "from utils.basic_entities import FormatEnum, FeatureTimePerDocumentEnum\n",
    "\n",
    "class TestTagBased(unittest.TestCase):\n",
    "    \n",
    "    def testParser(self):\n",
    "        tcount = FormRatio(\"FormRatio\", \"Calcula a razão entre métodos get e post\", \"Jupyter-notebook documentation\", \n",
    "                                         FeatureVisibilityEnum.public, \n",
    "                                         FormatEnum.HTML, \n",
    "                                         FeatureTimePerDocumentEnum.MILLISECONDS)\n",
    "        document = Document(1,\"doc1\",'<div><form action=\"example.php\" method=\"post\"></form><form method=\"get\"></form></div>')\n",
    "        \n",
    "        tcount.feed(\"<head></head><body>Dados<p>Parágrafo</p><h1><h123> de teste</body>\")\n",
    "        int_result = tcount.compute_feature(document)\n",
    "        self.assertEqual(int_result, 1, \"O teste deu errado\")    \n",
    "\n",
    "sys.argv = ['', 'TestTagBased.testParser']\n",
    "unittest.main()"
   ]
  },
  {
   "cell_type": "code",
   "execution_count": null,
   "metadata": {
    "collapsed": true
   },
   "outputs": [],
   "source": []
  },
  {
   "cell_type": "code",
   "execution_count": null,
   "metadata": {
    "collapsed": true
   },
   "outputs": [],
   "source": []
  }
 ],
 "metadata": {
  "kernelspec": {
   "display_name": "Python 3",
   "language": "python",
   "name": "python3"
  },
  "language_info": {
   "codemirror_mode": {
    "name": "ipython",
    "version": 3
   },
   "file_extension": ".py",
   "mimetype": "text/x-python",
   "name": "python",
   "nbconvert_exporter": "python",
   "pygments_lexer": "ipython3",
   "version": "3.6.9"
  }
 },
 "nbformat": 4,
 "nbformat_minor": 2
}
