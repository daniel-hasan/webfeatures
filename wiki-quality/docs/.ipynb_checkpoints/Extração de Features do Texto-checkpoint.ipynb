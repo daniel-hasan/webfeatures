{
 "cells": [
  {
   "cell_type": "markdown",
   "metadata": {},
   "source": [
    "Comando abaixo apenas para que seja possível importar os modulos corretamente"
   ]
  },
  {
   "cell_type": "code",
   "execution_count": 1,
   "metadata": {},
   "outputs": [],
   "source": [
    "import sys\n",
    "sys.path.append(\"../\") "
   ]
  },
  {
   "cell_type": "markdown",
   "metadata": {},
   "source": [
    "# Extração Simples de um único texto"
   ]
  },
  {
   "cell_type": "markdown",
   "metadata": {},
   "source": [
    "Vamos supor que desejamos extrair as features do texto abaixo:"
   ]
  },
  {
   "cell_type": "code",
   "execution_count": 3,
   "metadata": {},
   "outputs": [],
   "source": [
    "texto = \"<h1> oioi</h1>meu nome é Daniel. Tudo bem? :)\""
   ]
  },
  {
   "cell_type": "markdown",
   "metadata": {},
   "source": [
    "Caso desejamos extrair o número de palavras e caracteres no texto, fazemos:"
   ]
  },
  {
   "cell_type": "code",
   "execution_count": null,
   "metadata": {},
   "outputs": [],
   "source": [
    "from feature.featureImpl.style_features import WordCountFeature\n",
    "from utils.basic_entities import FormatEnum, FeatureTimePerDocumentEnum\n",
    "\n",
    "#criamos a feature\n",
    "word_count = WordCountFeature(\"Word Count\",\"Count the number of words in the text.\",\"\",\n",
    "                    FeatureVisibilityEnum.public, FormatEnum.text_plain, FeatureTimePerDocumentEnum.MILLISECONDS,ignore_punctuation=True)\n",
    "\n",
    "charCountFeat = CharacterCountFeature(\"Char Count\",\"Count the number of characters in the text.\",\"\",\n",
    "                    FeatureVisibilityEnum.public, FormatEnum.text_plain, FeatureTimePerDocumentEnum.MILLISECONDS, ignore_punctuation=False)\n",
    "    \n",
    "arr_features = [word_count,charCountFeat]\n",
    "\n",
    "#instanciamos o documento \n",
    "docText = Document(1,\"Documento bonitinho\",texto)\n",
    "\n",
    "#executamos o feature calculator passando o quais features temos que calcular e o formato do arquivo (HTML iu text plain)\n",
    "FeatureCalculator.featureManager.computeFeatureSet(docText,arr_features,FormatEnum.HTML)"
   ]
  }
 ],
 "metadata": {
  "kernelspec": {
   "display_name": "Python 3",
   "language": "python",
   "name": "python3"
  },
  "language_info": {
   "codemirror_mode": {
    "name": "ipython",
    "version": 3
   },
   "file_extension": ".py",
   "mimetype": "text/x-python",
   "name": "python",
   "nbconvert_exporter": "python",
   "pygments_lexer": "ipython3",
   "version": "3.6.8"
  }
 },
 "nbformat": 4,
 "nbformat_minor": 2
}
