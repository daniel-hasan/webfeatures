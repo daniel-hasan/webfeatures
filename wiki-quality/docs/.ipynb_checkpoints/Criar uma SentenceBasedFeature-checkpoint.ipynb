{
 "cells": [
  {
   "cell_type": "markdown",
   "metadata": {},
   "source": [
    "Comando abaixo apenas para que seja possível importar os modulos corretamente"
   ]
  },
  {
   "cell_type": "code",
   "execution_count": 1,
   "metadata": {
    "collapsed": true
   },
   "outputs": [],
   "source": [
    "import sys\n",
    "sys.path.append(\"../\") "
   ]
  },
  {
   "cell_type": "markdown",
   "metadata": {},
   "source": [
    "# Criação de Features Textuais"
   ]
  },
  {
   "cell_type": "markdown",
   "metadata": {},
   "source": [
    "Nessa seção explicaremos como implementar as diferentes features textuais."
   ]
  },
  {
   "cell_type": "markdown",
   "metadata": {},
   "source": [
    "## Como criar uma SentenceBasedFeature"
   ]
  },
  {
   "cell_type": "markdown",
   "metadata": {},
   "source": [
    "Uma SentenceBasedFeature é uma classe de features textuais que calcula o resultado das métricas utilizando as frases do texto como parâmetro. Para criar uma feature sentencebased, fazemos:"
   ]
  },
  {
   "cell_type": "markdown",
   "metadata": {},
   "source": [
    "1. Importamos os módulos necessários:"
   ]
  },
  {
   "cell_type": "code",
   "execution_count": 2,
   "metadata": {
    "collapsed": true
   },
   "outputs": [],
   "source": [
    "from feature.features import SentenceBasedFeature"
   ]
  },
  {
   "cell_type": "markdown",
   "metadata": {},
   "source": [
    "2. Criamos a classe responsável pela feature:"
   ]
  },
  {
   "cell_type": "code",
   "execution_count": 3,
   "metadata": {
    "collapsed": true
   },
   "outputs": [],
   "source": [
    "class SentenceOccurenceCount(SentenceBasedFeature):\n",
    "    \n",
    "    '''classe que contabiliza quantas vezes uma frase aparece no texto'''\n",
    "    \n",
    "    def __init__(self,name,description,reference,visibility,text_format,feature_time_per_document,sentence_occur):\n",
    "        super(SentenceBasedFeature,self).__init__(name,description,reference,visibility,text_format,feature_time_per_document)    \n",
    "        self.int_sentences_counter = 0\n",
    "        self.sentence_occur = sentence_occur"
   ]
  },
  {
   "cell_type": "markdown",
   "metadata": {},
   "source": [
    "A classe de exemplo acima herda de SentenceBasedFeature. Seus atributo é:\n",
    "\n",
    "* sentence_occur: a frase que queremos contabilizar.\n",
    "\n",
    "Outro exemplo seria utilizar um conjunto de frases."
   ]
  },
  {
   "cell_type": "markdown",
   "metadata": {
    "collapsed": true
   },
   "source": [
    "3. Implementamos os métodos abstratos"
   ]
  },
  {
   "cell_type": "markdown",
   "metadata": {},
   "source": [
    "Observemos a classe SentenceBasedFeature. A classe contém métodos abstratos que devem ser implementados nas classes filhas."
   ]
  },
  {
   "cell_type": "code",
   "execution_count": 4,
   "metadata": {
    "collapsed": true
   },
   "outputs": [],
   "source": [
    "from feature.features import FeatureCalculator\n",
    "from abc import abstractmethod\n",
    "\n",
    "class SentenceBasedFeature(FeatureCalculator):\n",
    "\n",
    "    @abstractmethod\n",
    "    def checkSentence(self,document,sentence):\n",
    "        raise NotImplementedError"
   ]
  },
  {
   "cell_type": "markdown",
   "metadata": {},
   "source": [
    "Como observado, a classe SentenceBasedFeature herda de FeatureCalculator. A classe FeatureCalculator também possui métodos abstratos que devem ser implementados. Abaixo o diagrama de classes que representa a estrutura de hierarquia."
   ]
  },
  {
   "cell_type": "markdown",
   "metadata": {},
   "source": [
    "![title](sbf.jpeg)"
   ]
  },
  {
   "cell_type": "markdown",
   "metadata": {},
   "source": [
    "Em resumo, os métodos a serem implementados são checkSentence, compute_feature e finish_document. O método checkSentence é responsável por verificar cada frase do texto. O método compute_feature é responsável por calcular o resultado da feature desejada, e o finish_document responsável por resetar as variáveis utilizadas no cálculo da feature."
   ]
  },
  {
   "cell_type": "markdown",
   "metadata": {},
   "source": [
    "Vamos implementar esses métodos na subclasse SentenceBasedFeature de exemplo."
   ]
  },
  {
   "cell_type": "code",
   "execution_count": 5,
   "metadata": {
    "collapsed": true
   },
   "outputs": [],
   "source": [
    "class SentenceOccurenceCount(SentenceBasedFeature):\n",
    "    \n",
    "    '''classe que contabiliza quantas vezes uma frase aparece no texto'''\n",
    "    \n",
    "    def __init__(self,name,description,reference,visibility,text_format,feature_time_per_document,sentence_occur):\n",
    "        super(SentenceBasedFeature,self).__init__(name,description,reference,visibility,text_format,feature_time_per_document)    \n",
    "        self.int_sentences_counter = 0\n",
    "        self.sentence_occur = sentence_occur\n",
    "    \n",
    "    def checkSentence(self,document,sentence):\n",
    "        if sentence is self.sentence_occur:\n",
    "            self.int_sentences_counter = self.int_sentences_counter + 1\n",
    "        return True\n",
    "    \n",
    "    def compute_feature(self, document):\n",
    "        return self.int_sentences_counter\n",
    "    \n",
    "    def finish_document(self,document):\n",
    "        self.int_sentences_counter = 0"
   ]
  },
  {
   "cell_type": "markdown",
   "metadata": {},
   "source": [
    "Seguindo esses passos, é possível implementar uma feature SentenceBasedFeature."
   ]
  },
  {
   "cell_type": "markdown",
   "metadata": {},
   "source": [
    "### Testando a feature implementada"
   ]
  },
  {
   "cell_type": "markdown",
   "metadata": {},
   "source": [
    "Para fazer o teste manual da classe implementada, executamos seus métodos nas suas respectivas funções. Abaixo um código de teste para a execução da feature, em teste unitário."
   ]
  },
  {
   "cell_type": "code",
   "execution_count": 6,
   "metadata": {
    "collapsed": false
   },
   "outputs": [
    {
     "name": "stderr",
     "output_type": "stream",
     "text": [
      "."
     ]
    },
    {
     "name": "stdout",
     "output_type": "stream",
     "text": [
      "O texto tem 2 \"Eu te amo\".\n"
     ]
    },
    {
     "name": "stderr",
     "output_type": "stream",
     "text": [
      "\n",
      "----------------------------------------------------------------------\n",
      "Ran 1 test in 0.001s\n",
      "\n",
      "OK\n"
     ]
    },
    {
     "ename": "SystemExit",
     "evalue": "False",
     "output_type": "error",
     "traceback": [
      "An exception has occurred, use %tb to see the full traceback.\n",
      "\u001b[0;31mSystemExit\u001b[0m\u001b[0;31m:\u001b[0m False\n"
     ]
    },
    {
     "name": "stderr",
     "output_type": "stream",
     "text": [
      "/usr/lib/python3/dist-packages/IPython/core/interactiveshell.py:2889: UserWarning: To exit: use 'exit', 'quit', or Ctrl-D.\n",
      "  warn(\"To exit: use 'exit', 'quit', or Ctrl-D.\", stacklevel=1)\n"
     ]
    }
   ],
   "source": [
    "import unittest\n",
    "from feature.features import FeatureVisibilityEnum, Document, FeatureCalculator\n",
    "from utils.basic_entities import FormatEnum, FeatureTimePerDocumentEnum\n",
    "\n",
    "class TestFeatureCalculator(unittest.TestCase):\n",
    "    \n",
    "    def testSentenceCountTest(self):\n",
    "\n",
    "            scount = SentenceOccurenceCount(\"SentenceOccurenceCount\", \"Conta o número de frases pré-definidas no texto\", \n",
    "                                             \"Jupyter Notebook documentation\", \n",
    "                                             FeatureVisibilityEnum.public, \n",
    "                                             FormatEnum.text_plain, \n",
    "                                             FeatureTimePerDocumentEnum.MILLISECONDS,\"Eu te amo.\")\n",
    "\n",
    "            document = Document(1,\"doc1\",\"O texto nao precisa -necessariamente - ser o texto que sera testado\")\n",
    "\n",
    "            scount.checkSentence(document, \"É a vovó.\")\n",
    "            scount.checkSentence(document, \"Vovó te ama.\")\n",
    "            scount.checkSentence(document, \"Sempre se lembre.\")\n",
    "            scount.checkSentence(document, \"Eu te amo.\")\n",
    "            scount.checkSentence(document, \"Durma bem.\")\n",
    "            scount.checkSentence(document, \"Eu te amo.\")\n",
    "            int_result = scount.compute_feature(document)\n",
    "            print(\"O texto tem \" + str(int_result) + ' \"Eu te amo\".')\n",
    "            scount.finish_document(document)\n",
    "            self.assertEqual(int_result, 2, \"Nao foi contabilizado o numero de frases correto no teste do primeiro documento\")\n",
    "\n",
    "sys.argv = ['', 'TestFeatureCalculator.testSentenceCountTest']\n",
    "unittest.main()"
   ]
  },
  {
   "cell_type": "markdown",
   "metadata": {},
   "source": [
    "O resultado do compute_feature deve ser 2, assim como o teste unitário."
   ]
  }
 ],
 "metadata": {
  "kernelspec": {
   "display_name": "Python 3",
   "language": "python",
   "name": "python3"
  },
  "language_info": {
   "codemirror_mode": {
    "name": "ipython",
    "version": 3
   },
   "file_extension": ".py",
   "mimetype": "text/x-python",
   "name": "python",
   "nbconvert_exporter": "python",
   "pygments_lexer": "ipython3",
   "version": "3.5.3"
  }
 },
 "nbformat": 4,
 "nbformat_minor": 2
}
