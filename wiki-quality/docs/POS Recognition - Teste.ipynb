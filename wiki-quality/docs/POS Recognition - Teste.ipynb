{
 "cells": [
  {
   "cell_type": "code",
   "execution_count": 4,
   "metadata": {},
   "outputs": [
    {
     "ename": "AttributeError",
     "evalue": "module 'nltk.corpus' has no attribute 'load'",
     "output_type": "error",
     "traceback": [
      "\u001b[0;31m---------------------------------------------------------------------------\u001b[0m",
      "\u001b[0;31mAttributeError\u001b[0m                            Traceback (most recent call last)",
      "\u001b[0;32m<ipython-input-4-b141f1fe6f2a>\u001b[0m in \u001b[0;36m<module>\u001b[0;34m()\u001b[0m\n\u001b[1;32m      1\u001b[0m \u001b[0;32mimport\u001b[0m \u001b[0mnltk\u001b[0m\u001b[0;34m.\u001b[0m\u001b[0mcorpus\u001b[0m\u001b[0;34m\u001b[0m\u001b[0;34m\u001b[0m\u001b[0m\n\u001b[0;32m----> 2\u001b[0;31m \u001b[0mtagger\u001b[0m \u001b[0;34m=\u001b[0m \u001b[0mnltk\u001b[0m\u001b[0;34m.\u001b[0m\u001b[0mcorpus\u001b[0m\u001b[0;34m.\u001b[0m\u001b[0mload\u001b[0m\u001b[0;34m(\u001b[0m\u001b[0;34m\"taggers/mac_morpho_aubt.pickle\"\u001b[0m\u001b[0;34m)\u001b[0m\u001b[0;34m\u001b[0m\u001b[0;34m\u001b[0m\u001b[0m\n\u001b[0m",
      "\u001b[0;32m/home/profhasan/.local/lib/python3.6/site-packages/nltk/lazyimport.py\u001b[0m in \u001b[0;36m__getattr__\u001b[0;34m(self, name)\u001b[0m\n\u001b[1;32m    121\u001b[0m             )\n\u001b[1;32m    122\u001b[0m         \u001b[0mmodule\u001b[0m \u001b[0;34m=\u001b[0m \u001b[0mself\u001b[0m\u001b[0;34m.\u001b[0m\u001b[0m__lazymodule_import\u001b[0m\u001b[0;34m(\u001b[0m\u001b[0;34m)\u001b[0m\u001b[0;34m\u001b[0m\u001b[0;34m\u001b[0m\u001b[0m\n\u001b[0;32m--> 123\u001b[0;31m         \u001b[0;32mreturn\u001b[0m \u001b[0mgetattr\u001b[0m\u001b[0;34m(\u001b[0m\u001b[0mmodule\u001b[0m\u001b[0;34m,\u001b[0m \u001b[0mname\u001b[0m\u001b[0;34m)\u001b[0m\u001b[0;34m\u001b[0m\u001b[0;34m\u001b[0m\u001b[0m\n\u001b[0m\u001b[1;32m    124\u001b[0m \u001b[0;34m\u001b[0m\u001b[0m\n\u001b[1;32m    125\u001b[0m     \u001b[0;32mdef\u001b[0m \u001b[0m__setattr__\u001b[0m\u001b[0;34m(\u001b[0m\u001b[0mself\u001b[0m\u001b[0;34m,\u001b[0m \u001b[0mname\u001b[0m\u001b[0;34m,\u001b[0m \u001b[0mvalue\u001b[0m\u001b[0;34m)\u001b[0m\u001b[0;34m:\u001b[0m\u001b[0;34m\u001b[0m\u001b[0;34m\u001b[0m\u001b[0m\n",
      "\u001b[0;31mAttributeError\u001b[0m: module 'nltk.corpus' has no attribute 'load'"
     ]
    }
   ],
   "source": [
    "import nltk.corpus\n",
    "tagger = nltk.corpus.load(\"taggers/mac_morpho_aubt.pickle\")"
   ]
  },
  {
   "cell_type": "code",
   "execution_count": 3,
   "metadata": {},
   "outputs": [
    {
     "name": "stderr",
     "output_type": "stream",
     "text": [
      "[nltk_data] Downloading package mac_morpho to\n",
      "[nltk_data]     /home/profhasan/nltk_data...\n",
      "[nltk_data]   Unzipping corpora/mac_morpho.zip.\n"
     ]
    },
    {
     "data": {
      "text/plain": [
       "True"
      ]
     },
     "execution_count": 3,
     "metadata": {},
     "output_type": "execute_result"
    }
   ],
   "source": [
    "nltk.download('mac_morpho')\n"
   ]
  },
  {
   "cell_type": "code",
   "execution_count": 37,
   "metadata": {},
   "outputs": [
    {
     "name": "stdout",
     "output_type": "stream",
     "text": [
      "Test accuracy =0.806511963200714\n"
     ]
    }
   ],
   "source": [
    "import nltk\n",
    "import pickle\n",
    "from nltk.corpus import mac_morpho\n",
    "def get_unigram_tagger():\n",
    "  p_train = 0.9\n",
    "  tagged_sents = mac_morpho.tagged_sents()\n",
    "  size = int(len(tagged_sents)*0.9)\n",
    "  train_sents = tagged_sents[:size]\n",
    "  test_sents = tagged_sents[size:]\n",
    "  uni_tagger = nltk.UnigramTagger(train_sents)\n",
    "  print(f\"Test accuracy ={uni_tagger.evaluate(test_sents)}\")\n",
    "  return uni_tagger\n",
    "\n",
    "uni_tagger = get_unigram_tagger()"
   ]
  },
  {
   "cell_type": "code",
   "execution_count": 38,
   "metadata": {},
   "outputs": [],
   "source": [
    "with open(\"../postag_models/pt_macmorpho_unigram.pickle\",\"wb\") as file_tagger:\n",
    "    pickle.dump(uni_tagger,file_tagger)"
   ]
  },
  {
   "cell_type": "code",
   "execution_count": 36,
   "metadata": {},
   "outputs": [
    {
     "name": "stdout",
     "output_type": "stream",
     "text": [
      "[('oi', None), ('!', '!'), ('Meu', 'PROADJ'), ('nome', 'N'), ('é', 'V'), ('Daniel', 'NPROP')]\n"
     ]
    }
   ],
   "source": [
    "with open(\"../postag_models/pt_unigram.pickle\",\"rb\") as file_tagger:\n",
    "    tagger = pickle.load(file_tagger)\n",
    "    print(tagger.tag([\"oi\",\"!\",\"Meu\",\"nome\", \"é\",\"Daniel\"]))"
   ]
  },
  {
   "cell_type": "code",
   "execution_count": 41,
   "metadata": {},
   "outputs": [
    {
     "name": "stdout",
     "output_type": "stream",
     "text": [
      "\n",
      "Unigram: [('lula', 'comida'), ('é', None), ('a', None), ('comida', None), ('preferida', None), ('do', None), ('presidente', 'S'), ('lula', 'comida'), ('lul', 'S')]\n",
      "\n",
      "Bigram: [('lula', None), ('é', None), ('a', None), ('comida', None), ('preferida', None), ('do', None), ('presidente', None), ('lula', None), ('lul', None)]\n",
      "\n",
      "trigram: [('lula', None), ('é', None), ('a', None), ('comida', None), ('preferida', None), ('do', None), ('presidente', None), ('lula', None), ('lul', None)]\n"
     ]
    }
   ],
   "source": [
    "#http://www.inf.ed.ac.uk/teaching/courses/icl/nltk/tagging.pdf\n",
    "\n",
    "tagged_sents = mac_morpho.tagged_sents()[:10]\n",
    "\n",
    "train_sents = [[(\"eu\",\"P\"),(\"gosto\",\"V\"),(\"de\",\"PREP\"),(\"lula\",\"comida\"),],\n",
    "                [(\"o\",\"A\"),(\"presidente\",\"S\"),(\"lula\",\"pessoa\"),(\"lul\",\"S\")],\n",
    "                [(\"boa\",\"gretting\"),(\"tarde\",\"gretting\"),(\"ela\",\"P\"),(\"gosto\",\"V\"),(\"de\",\"PREP\"),(\"lula\",\"comida\"),]\n",
    "               ]\n",
    "\n",
    "test_sents = [\"lula\",\"é\",\"a\",\"comida\",\"preferida\",\"do\",\"presidente\",\"lula\",\"lul\"]\n",
    "\n",
    "\n",
    "\n",
    "#unigran tager: a tag mais comum\n",
    "uni_tagger = nltk.UnigramTagger(train_sents)\n",
    "uni_result = uni_tagger.tag(test_sents)\n",
    "print(f\"\\nUnigram: {uni_result}\")\n",
    "\n",
    "bi_tagger = nltk.BigramTagger(train_sents)\n",
    "bi_result = bi_tagger.tag(test_sents)\n",
    "print(f\"\\nBigram: {bi_result}\")\n",
    "\n",
    "tri_tagger = nltk.TrigramTagger(train_sents)\n",
    "tri_result = tri_tagger.tag(test_sents)\n",
    "print(f\"\\ntrigram: {tri_result}\")"
   ]
  }
 ],
 "metadata": {
  "kernelspec": {
   "display_name": "Python 3",
   "language": "python",
   "name": "python3"
  },
  "language_info": {
   "codemirror_mode": {
    "name": "ipython",
    "version": 3
   },
   "file_extension": ".py",
   "mimetype": "text/x-python",
   "name": "python",
   "nbconvert_exporter": "python",
   "pygments_lexer": "ipython3",
   "version": "3.6.9"
  }
 },
 "nbformat": 4,
 "nbformat_minor": 2
}
