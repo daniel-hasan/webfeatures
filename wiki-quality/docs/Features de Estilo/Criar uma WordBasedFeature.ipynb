{
 "cells": [
  {
   "cell_type": "markdown",
   "metadata": {},
   "source": [
    "Comando abaixo apenas para que seja possível importar os modulos corretamente"
   ]
  },
  {
   "cell_type": "code",
   "execution_count": 1,
   "metadata": {
    "collapsed": true
   },
   "outputs": [],
   "source": [
    "import sys\n",
    "sys.path.append(\"../../\") "
   ]
  },
  {
   "cell_type": "markdown",
   "metadata": {},
   "source": [
    "# Criação de Features Textuais"
   ]
  },
  {
   "cell_type": "markdown",
   "metadata": {},
   "source": [
    "Nessa seção explicaremos como implementar as diferentes features textuais."
   ]
  },
  {
   "cell_type": "markdown",
   "metadata": {},
   "source": [
    "## Como criar uma WordBasedFeature"
   ]
  },
  {
   "cell_type": "markdown",
   "metadata": {},
   "source": [
    "Uma WordBasedFeature é uma classe de features textuais que calcula o resultado das métricas utilizando as palavras do texto como parâmetro. Para criar uma feature wordbased, fazemos:"
   ]
  },
  {
   "cell_type": "markdown",
   "metadata": {},
   "source": [
    "###### Importamos os módulos necessários:"
   ]
  },
  {
   "cell_type": "code",
   "execution_count": 2,
   "metadata": {
    "collapsed": false
   },
   "outputs": [],
   "source": [
    "from feature.features import WordBasedFeature"
   ]
  },
  {
   "cell_type": "markdown",
   "metadata": {},
   "source": [
    "Caso o cálculo da feature levar em consideração a separação silábica das palavras, também importamos o hifenador de terceiros."
   ]
  },
  {
   "cell_type": "code",
   "execution_count": 3,
   "metadata": {
    "collapsed": true
   },
   "outputs": [],
   "source": [
    "from feature.hyphenate import *"
   ]
  },
  {
   "cell_type": "markdown",
   "metadata": {},
   "source": [
    "###### Criamos a classe responsável pela feature:"
   ]
  },
  {
   "cell_type": "code",
   "execution_count": 4,
   "metadata": {
    "collapsed": false
   },
   "outputs": [],
   "source": [
    "class FirstLetterWordCount(WordBasedFeature):\n",
    "    \n",
    "    '''classe que contabiliza quantas palavras no texto iniciam com determinadas letras'''\n",
    "    \n",
    "    def __init__(self,name,description,reference,visibility,text_format,feature_time_per_document,setInicialLetter=None,case_sensitive=False,ignore_punctuation=False):\n",
    "        super(WordBasedFeature,self).__init__(name,description,reference,visibility,text_format,feature_time_per_document)\n",
    "        \n",
    "        if(setInicialLetter==None):\n",
    "            setInicialLetter = []\n",
    "        if(not case_sensitive):\n",
    "            setInicialLetter = [letter.lower() for letter in setInicialLetter]\n",
    "        \n",
    "        self.case_sensitive = case_sensitive\n",
    "        self.setInicialLetter = set(setInicialLetter)\n",
    "        self.int_word_counter = 0\n",
    "        self.ignore_punctuation = ignore_punctuation"
   ]
  },
  {
   "cell_type": "markdown",
   "metadata": {},
   "source": [
    "A classe de exemplo acima herda de WordBasedFeature. Seus atributos são:\n",
    "\n",
    "* setInicialLetter: conjunto de cada letra inicial que as palavras contabilizadas deverão ter;\n",
    "* case_sensitive: booleano que confirma se maiúsculas e minúsculas devem ser consideradas;\n",
    "* ignore_punctuation: booleano que confirma se as pontuações do texto serão consideradas ou não."
   ]
  },
  {
   "cell_type": "markdown",
   "metadata": {},
   "source": [
    "###### Implementamos os métodos abstratos"
   ]
  },
  {
   "cell_type": "markdown",
   "metadata": {},
   "source": [
    "Observemos a classe WordBasedFeature. A classe contém métodos abstratos que devem ser implementados nas classes filhas."
   ]
  },
  {
   "cell_type": "code",
   "execution_count": 5,
   "metadata": {
    "collapsed": false
   },
   "outputs": [],
   "source": [
    "from feature.features import FeatureCalculator\n",
    "from abc import abstractmethod\n",
    "\n",
    "class WordBasedFeature(FeatureCalculator):\n",
    "\n",
    "    @abstractmethod\n",
    "    def checkWord(self,document,word):\n",
    "        raise NotImplementedError"
   ]
  },
  {
   "cell_type": "markdown",
   "metadata": {},
   "source": [
    "Como observado, a classe WordBasedFeature herda de FeatureCalculator. A classe FeatureCalculator também possui métodos abstratos que devem ser implementados. Abaixo o diagrama de classes que representa a estrutura de hierarquia."
   ]
  },
  {
   "cell_type": "markdown",
   "metadata": {},
   "source": [
    "![title](wbf.jpeg)"
   ]
  },
  {
   "cell_type": "markdown",
   "metadata": {},
   "source": [
    "Em resumo, os métodos a serem implementados são checkWord, compute_feature e finish_document. O método checkWord é responsável por verificar cada palavra do texto. O método compute_feature é responsável por calcular o resultado da feature desejada, e o finish_document responsável por resetar as variáveis utilizadas no cálculo da feature."
   ]
  },
  {
   "cell_type": "markdown",
   "metadata": {},
   "source": [
    "Vamos implementar esses métodos na subclasse WordBasedFeature de exemplo."
   ]
  },
  {
   "cell_type": "code",
   "execution_count": 6,
   "metadata": {
    "collapsed": false,
    "scrolled": false
   },
   "outputs": [],
   "source": [
    "class FirstLetterWordCount(WordBasedFeature):\n",
    "    \n",
    "    '''classe que contabiliza quantas palavras no texto iniciam com determinadas letras'''\n",
    "    \n",
    "    def __init__(self,name,description,reference,visibility,text_format,feature_time_per_document,setInicialLetter=None,case_sensitive=False,ignore_punctuation=False):\n",
    "        super(WordBasedFeature,self).__init__(name,description,reference,visibility,text_format,feature_time_per_document)\n",
    "        \n",
    "        if(setInicialLetter==None):\n",
    "            setInicialLetter = []\n",
    "        if(not case_sensitive):\n",
    "            setInicialLetter = [letter.lower() for letter in setInicialLetter]\n",
    "        \n",
    "        self.case_sensitive = case_sensitive\n",
    "        self.setInicialLetter = set(setInicialLetter)\n",
    "        self.int_word_counter = 0\n",
    "        self.ignore_punctuation = ignore_punctuation\n",
    "    \n",
    "    def checkWord(self,document,word):\n",
    "        '''caso a palavra for uma pontuação, ignorar'''\n",
    "        if(self.ignore_punctuation and word in FeatureCalculator.word_divisors):\n",
    "            return True\n",
    "        \n",
    "        if len(self.setInicialLetter) == 0 or word[0:1] in self.setInicialLetter or (not self.case_sensitive and word[0:1].lower() in self.setInicialLetter):\n",
    "            self.int_word_counter = self.int_word_counter + 1\n",
    "        return True\n",
    "    \n",
    "    def compute_feature(self,document):\n",
    "        return self.int_word_counter\n",
    "\n",
    "        \n",
    "    def finish_document(self,document):\n",
    "        self.int_word_counter = 0"
   ]
  },
  {
   "cell_type": "markdown",
   "metadata": {},
   "source": [
    "Seguindo esses passos, é possível implementar uma feature WordBasedFeature."
   ]
  },
  {
   "cell_type": "markdown",
   "metadata": {},
   "source": [
    "### Testando a feature implementada"
   ]
  },
  {
   "cell_type": "markdown",
   "metadata": {},
   "source": [
    "Para fazer o teste manual da classe implementada, executamos seus métodos nas suas respectivas funções. Abaixo um código de teste para a execução da feature, em teste unitário."
   ]
  },
  {
   "cell_type": "code",
   "execution_count": 7,
   "metadata": {
    "collapsed": false
   },
   "outputs": [
    {
     "name": "stderr",
     "output_type": "stream",
     "text": [
      "."
     ]
    },
    {
     "name": "stdout",
     "output_type": "stream",
     "text": [
      "Resultado: 3 palavras\n"
     ]
    },
    {
     "name": "stderr",
     "output_type": "stream",
     "text": [
      "\n",
      "----------------------------------------------------------------------\n",
      "Ran 1 test in 0.001s\n",
      "\n",
      "OK\n"
     ]
    },
    {
     "ename": "SystemExit",
     "evalue": "False",
     "output_type": "error",
     "traceback": [
      "An exception has occurred, use %tb to see the full traceback.\n",
      "\u001b[0;31mSystemExit\u001b[0m\u001b[0;31m:\u001b[0m False\n"
     ]
    },
    {
     "name": "stderr",
     "output_type": "stream",
     "text": [
      "/usr/lib/python3/dist-packages/IPython/core/interactiveshell.py:2889: UserWarning: To exit: use 'exit', 'quit', or Ctrl-D.\n",
      "  warn(\"To exit: use 'exit', 'quit', or Ctrl-D.\", stacklevel=1)\n"
     ]
    }
   ],
   "source": [
    "import unittest\n",
    "from feature.features import FeatureVisibilityEnum, Document, FeatureCalculator\n",
    "from utils.basic_entities import FormatEnum, FeatureTimePerDocumentEnum\n",
    "\n",
    "class TestFeatureCalculator(unittest.TestCase):\n",
    "    \n",
    "    def testWordCountTest(self):\n",
    "\n",
    "            wcount = FirstLetterWordCount(\"FirstLetterWordCount\", \"Conta o número de palavras do texto que se inicia com determinadas letras\", \n",
    "                                             \"Jupyter Notebook documentation\", \n",
    "                                             FeatureVisibilityEnum.public, \n",
    "                                             FormatEnum.text_plain, \n",
    "                                             FeatureTimePerDocumentEnum.MILLISECONDS,[\"a\",\"B\"],\n",
    "                                             case_sensitive=True)\n",
    "\n",
    "            document = Document(1,\"doc1\",\"O texto nao precisa -necessariamente - ser o texto que sera testado\")\n",
    "\n",
    "            wcount.checkWord(document, \"Oi\")\n",
    "            wcount.checkWord(document, \",\")\n",
    "            wcount.checkWord(document, \"eu\")\n",
    "            wcount.checkWord(document, \"sou\")\n",
    "            wcount.checkWord(document, \"a\")\n",
    "            wcount.checkWord(document, \"Bia\")\n",
    "            wcount.checkWord(document, \"e\")\n",
    "            wcount.checkWord(document, \"adoro\")\n",
    "            wcount.checkWord(document, \"todos\")\n",
    "            wcount.checkWord(document, \"bebês\")\n",
    "            int_result = wcount.compute_feature(document)\n",
    "            print(\"Resultado: \" + str(int_result) + \" palavras\")\n",
    "            wcount.finish_document(document)\n",
    "            self.assertEqual(int_result, 3, \"Nao foi contabilizado o numero de palavras correto no teste do primeiro documento\")\n",
    "\n",
    "sys.argv = ['', 'TestFeatureCalculator.testWordCountTest']\n",
    "unittest.main()"
   ]
  },
  {
   "cell_type": "markdown",
   "metadata": {},
   "source": [
    "O resultado do compute_feature deve ser 3, assim como o teste unitário."
   ]
  },
  {
   "cell_type": "code",
   "execution_count": null,
   "metadata": {
    "collapsed": true
   },
   "outputs": [],
   "source": []
  }
 ],
 "metadata": {
  "kernelspec": {
   "display_name": "Python 3",
   "language": "python",
   "name": "python3"
  },
  "language_info": {
   "codemirror_mode": {
    "name": "ipython",
    "version": 3
   },
   "file_extension": ".py",
   "mimetype": "text/x-python",
   "name": "python",
   "nbconvert_exporter": "python",
   "pygments_lexer": "ipython3",
   "version": "3.5.3"
  }
 },
 "nbformat": 4,
 "nbformat_minor": 2
}
