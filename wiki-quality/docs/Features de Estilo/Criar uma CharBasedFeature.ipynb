{
 "cells": [
  {
   "cell_type": "markdown",
   "metadata": {},
   "source": [
    "Comando abaixo apenas para que seja possível importar os modulos corretamente"
   ]
  },
  {
   "cell_type": "code",
   "execution_count": 1,
   "metadata": {
    "collapsed": false
   },
   "outputs": [],
   "source": [
    "import sys\n",
    "sys.path.append(\"../../\") "
   ]
  },
  {
   "cell_type": "markdown",
   "metadata": {},
   "source": [
    "# Criação de Features de Estilo"
   ]
  },
  {
   "cell_type": "markdown",
   "metadata": {},
   "source": [
    "Nessa seção explicaremos como implementar as diferentes features de estilo."
   ]
  },
  {
   "cell_type": "markdown",
   "metadata": {},
   "source": [
    "## Como criar uma CharBasedFeature"
   ]
  },
  {
   "cell_type": "markdown",
   "metadata": {},
   "source": [
    "Uma CharBasedFeature é uma classe de features textuais que calcula o resultado das métricas utilizando os caracteres do texto como parâmetro. Para criar uma feature charbased, fazemos:"
   ]
  },
  {
   "cell_type": "markdown",
   "metadata": {},
   "source": [
    "###### Importamos os módulos necessários:"
   ]
  },
  {
   "cell_type": "code",
   "execution_count": 2,
   "metadata": {
    "collapsed": false
   },
   "outputs": [],
   "source": [
    "from feature.features import CharBasedFeature"
   ]
  },
  {
   "cell_type": "markdown",
   "metadata": {},
   "source": [
    "###### Criamos a classe responsável pela feature:"
   ]
  },
  {
   "cell_type": "code",
   "execution_count": 3,
   "metadata": {
    "collapsed": true
   },
   "outputs": [],
   "source": [
    "class VogalsCount(CharBasedFeature):\n",
    "    \n",
    "    '''classe que contabiliza quantas vogais o texto possui'''\n",
    "    \n",
    "    def __init__(self,name,description,reference,visibility,text_format,feature_time_per_document,setChar=None,case_sensitive=False,ignore_punctuation=False):\n",
    "        super(CharBasedFeature,self).__init__(name,description,reference,visibility,text_format,feature_time_per_document)\n",
    "        \n",
    "        if(setChar==None):\n",
    "            setChar = []\n",
    "        if(not case_sensitive):\n",
    "            setChar = [letter.lower() for letter in setChar]\n",
    "        \n",
    "        self.case_sensitive = case_sensitive\n",
    "        self.setChar = set(setChar)\n",
    "        self.int_char_counter = 0\n",
    "        self.ignore_punctuation = ignore_punctuation"
   ]
  },
  {
   "cell_type": "markdown",
   "metadata": {},
   "source": [
    "A classe de exemplo acima herda de WordBasedFeature. Seus atributos são:\n",
    "\n",
    "* setChar: conjunto de caracteres que serão contabilizados;\n",
    "* case_sensitive: booleano que confirma se maiúsculas e minúsculas devem ser consideradas;\n",
    "* ignore_punctuation: booleano que confirma se as pontuações do texto serão consideradas ou não."
   ]
  },
  {
   "cell_type": "markdown",
   "metadata": {},
   "source": [
    "###### Implementamos os métodos abstratos"
   ]
  },
  {
   "cell_type": "markdown",
   "metadata": {},
   "source": [
    "Observemos a classe CharBasedFeature. A classe contém métodos abstratos que devem ser implementados nas classes filhas."
   ]
  },
  {
   "cell_type": "code",
   "execution_count": 4,
   "metadata": {
    "collapsed": false
   },
   "outputs": [],
   "source": [
    "from feature.features import FeatureCalculator\n",
    "from abc import abstractmethod\n",
    "\n",
    "class CharBasedFeature(FeatureCalculator):\n",
    "\n",
    "    @abstractmethod\n",
    "    def checkChar(self,document,char):\n",
    "        raise NotImplementedError"
   ]
  },
  {
   "cell_type": "markdown",
   "metadata": {},
   "source": [
    "Como observado, a classe CharBasedFeature herda de FeatureCalculator. A classe FeatureCalculator também possui métodos abstratos que devem ser implementados. Abaixo o diagrama de classes que representa a estrutura de hierarquia."
   ]
  },
  {
   "cell_type": "markdown",
   "metadata": {},
   "source": [
    "![title](cbf.jpeg)"
   ]
  },
  {
   "cell_type": "markdown",
   "metadata": {},
   "source": [
    "Em resumo, os métodos a serem implementados são checkChar, compute_feature e finish_document. O método checkChar é responsável por verificar cada caracter do texto. O método compute_feature é responsável por calcular o resultado da feature desejada, e o finish_document responsável por resetar as variáveis utilizadas no cálculo da feature."
   ]
  },
  {
   "cell_type": "markdown",
   "metadata": {},
   "source": [
    "Vamos implementar esses métodos na subclasse CharBasedFeature de exemplo."
   ]
  },
  {
   "cell_type": "code",
   "execution_count": 5,
   "metadata": {
    "collapsed": false
   },
   "outputs": [],
   "source": [
    "class VogalsCount(CharBasedFeature):\n",
    "    \n",
    "    '''classe que contabiliza quantas vogais o texto possui'''\n",
    "    \n",
    "    def __init__(self,name,description,reference,visibility,text_format,feature_time_per_document,setChar=None,case_sensitive=False,ignore_punctuation=False):\n",
    "        super(CharBasedFeature,self).__init__(name,description,reference,visibility,text_format,feature_time_per_document)\n",
    "        \n",
    "        if(setChar==None):\n",
    "            setChar = []\n",
    "        if(not case_sensitive):\n",
    "            setChar = [letter.lower() for letter in setChar]\n",
    "        \n",
    "        self.case_sensitive = case_sensitive\n",
    "        self.setChar = set(setChar)\n",
    "        self.int_char_counter = 0\n",
    "        self.ignore_punctuation = ignore_punctuation\n",
    "        \n",
    "    def checkChar(self, document, char):\n",
    "        if self.ignore_punctuation is True and char in FeatureCalculator.word_divisors:\n",
    "            return True\n",
    "        if len(self.setChar) == 0 or char in self.setChar or (not self.case_sensitive and char.lower() in self.setChar):\n",
    "            self.int_char_counter = self.int_char_counter + 1\n",
    "        return True\n",
    "    \n",
    "    def compute_feature(self,document):\n",
    "        return self.int_char_counter\n",
    "    \n",
    "    def finish_document(self,document):\n",
    "        self.int_char_counter = 0"
   ]
  },
  {
   "cell_type": "markdown",
   "metadata": {},
   "source": [
    "Seguindo esses passos, é possível implementar uma feature CharBasedFeature."
   ]
  },
  {
   "cell_type": "markdown",
   "metadata": {},
   "source": [
    "### Testando a feature implementada"
   ]
  },
  {
   "cell_type": "markdown",
   "metadata": {},
   "source": [
    "Para fazer o teste manual da classe implementada, executamos seus métodos nas suas respectivas funções. Abaixo um código de teste para a execução da feature, em teste unitário."
   ]
  },
  {
   "cell_type": "code",
   "execution_count": 6,
   "metadata": {
    "collapsed": false
   },
   "outputs": [
    {
     "name": "stderr",
     "output_type": "stream",
     "text": [
      "."
     ]
    },
    {
     "name": "stdout",
     "output_type": "stream",
     "text": [
      "O texto tem 25 vogais.\n"
     ]
    },
    {
     "name": "stderr",
     "output_type": "stream",
     "text": [
      "\n",
      "----------------------------------------------------------------------\n",
      "Ran 1 test in 0.006s\n",
      "\n",
      "OK\n"
     ]
    },
    {
     "ename": "SystemExit",
     "evalue": "False",
     "output_type": "error",
     "traceback": [
      "An exception has occurred, use %tb to see the full traceback.\n",
      "\u001b[0;31mSystemExit\u001b[0m\u001b[0;31m:\u001b[0m False\n"
     ]
    },
    {
     "name": "stderr",
     "output_type": "stream",
     "text": [
      "/usr/lib/python3/dist-packages/IPython/core/interactiveshell.py:2889: UserWarning: To exit: use 'exit', 'quit', or Ctrl-D.\n",
      "  warn(\"To exit: use 'exit', 'quit', or Ctrl-D.\", stacklevel=1)\n"
     ]
    }
   ],
   "source": [
    "import unittest\n",
    "from feature.features import FeatureVisibilityEnum, Document, FeatureCalculator\n",
    "from utils.basic_entities import FormatEnum, FeatureTimePerDocumentEnum\n",
    "\n",
    "class TestFeatureCalculator(unittest.TestCase):\n",
    "    \n",
    "    def testCharCountTest(self):\n",
    "\n",
    "            ccount = VogalsCount(\"VogalsCount\", \"Conta o número de vogais do texto\", \n",
    "                                             \"Jupyter Notebook documentation\", \n",
    "                                             FeatureVisibilityEnum.public, \n",
    "                                             FormatEnum.text_plain, \n",
    "                                             FeatureTimePerDocumentEnum.MILLISECONDS,[\"a\",\"e\",\"i\",\"o\",\"u\"],\n",
    "                                             case_sensitive=True)\n",
    "\n",
    "            document = Document(1,\"doc1\",\"O texto nao precisa -necessariamente - ser o texto que sera testado\")\n",
    "            \n",
    "            for char in document.str_text:\n",
    "                ccount.checkChar(document, char)\n",
    "            \n",
    "            int_result = ccount.compute_feature(document)\n",
    "            print(\"O texto tem \" + str(int_result) + \" vogais.\")\n",
    "            ccount.finish_document(document)\n",
    "            self.assertEqual(int_result, 25, \"Nao foi contabilizado o numero de vogais correto no teste do primeiro documento\")\n",
    "    \n",
    "sys.argv = ['', 'TestFeatureCalculator.testCharCountTest']\n",
    "unittest.main()"
   ]
  },
  {
   "cell_type": "markdown",
   "metadata": {},
   "source": [
    "O resultado do compute_feature deve ser 26, assim como o teste unitário."
   ]
  }
 ],
 "metadata": {
  "kernelspec": {
   "display_name": "Python 3",
   "language": "python",
   "name": "python3"
  },
  "language_info": {
   "codemirror_mode": {
    "name": "ipython",
    "version": 3
   },
   "file_extension": ".py",
   "mimetype": "text/x-python",
   "name": "python",
   "nbconvert_exporter": "python",
   "pygments_lexer": "ipython3",
   "version": "3.5.3"
  }
 },
 "nbformat": 4,
 "nbformat_minor": 2
}
