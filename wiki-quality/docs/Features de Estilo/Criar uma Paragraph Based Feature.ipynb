{
 "cells": [
  {
   "cell_type": "markdown",
   "metadata": {},
   "source": [
    "Comando abaixo apenas para que seja possível importar os modulos corretamente"
   ]
  },
  {
   "cell_type": "code",
   "execution_count": 1,
   "metadata": {
    "collapsed": true
   },
   "outputs": [],
   "source": [
    "import sys\n",
    "sys.path.append(\"../../\") "
   ]
  },
  {
   "cell_type": "markdown",
   "metadata": {},
   "source": [
    "# Criação de Features de Estilo"
   ]
  },
  {
   "cell_type": "markdown",
   "metadata": {},
   "source": [
    "Nessa seção explicaremos como implementar as diferentes features de estilo."
   ]
  },
  {
   "cell_type": "markdown",
   "metadata": {},
   "source": [
    "## Como criar uma ParagraphBasedFeature"
   ]
  },
  {
   "cell_type": "markdown",
   "metadata": {},
   "source": [
    "Uma ParagraphBasedFeature é uma classe de features textuais que calcula o resultado das métricas utilizando os parágrafos do texto como parâmetro. Para criar uma feature paragraphbased, fazemos"
   ]
  },
  {
   "cell_type": "markdown",
   "metadata": {},
   "source": [
    "###### Importamos os módulos necessários:"
   ]
  },
  {
   "cell_type": "code",
   "execution_count": 2,
   "metadata": {
    "collapsed": true
   },
   "outputs": [],
   "source": [
    "from feature.features import ParagraphBasedFeature"
   ]
  },
  {
   "cell_type": "markdown",
   "metadata": {},
   "source": [
    "###### Criamos a classe responsável pela feature:"
   ]
  },
  {
   "cell_type": "code",
   "execution_count": 3,
   "metadata": {
    "collapsed": true
   },
   "outputs": [],
   "source": [
    "class EnemQuality(ParagraphBasedFeature):\n",
    "    \n",
    "    '''informa a qualidade de uma redação do Enem pelo quesito Coesão, em porcentagem'''\n",
    "    \n",
    "    def __init__(self,name,description,reference,visibility,text_format,feature_time_per_document):\n",
    "        super(ParagraphBasedFeature,self).__init__(name,description,reference,visibility,text_format,feature_time_per_document)\n",
    "        self.int_percent = 0\n",
    "        self.int_parag_counter = 0"
   ]
  },
  {
   "cell_type": "markdown",
   "metadata": {},
   "source": [
    "A classe de exemplo acima herda de ParagraphBasedFeature. Seus atributo são:\n",
    "\n",
    "* int_percent: responsável por armazenar o percentual de qualidade do texto;\n",
    "* int_parag_counter: conta o número de parágrafos do texto."
   ]
  },
  {
   "cell_type": "markdown",
   "metadata": {},
   "source": [
    "###### Implementamos os métodos abstratos"
   ]
  },
  {
   "cell_type": "markdown",
   "metadata": {},
   "source": [
    "Observemos a classe CharBasedFeature. A classe contém métodos abstratos que devem ser implementados nas classes filhas."
   ]
  },
  {
   "cell_type": "code",
   "execution_count": 4,
   "metadata": {
    "collapsed": true
   },
   "outputs": [],
   "source": [
    "from feature.features import FeatureCalculator\n",
    "from abc import abstractmethod\n",
    "\n",
    "class ParagraphBasedFeature(FeatureCalculator):\n",
    "\n",
    "    @abstractmethod\n",
    "    def checkParagraph(self,document,paragraph):\n",
    "        raise NotImplementedError"
   ]
  },
  {
   "cell_type": "markdown",
   "metadata": {},
   "source": [
    "Como observado, a classe ParagraphBasedFeature herda de FeatureCalculator. A classe FeatureCalculator também possui métodos abstratos que devem ser implementados. Abaixo o diagrama de classes que representa a estrutura de hierarquia."
   ]
  },
  {
   "cell_type": "markdown",
   "metadata": {},
   "source": [
    "![title](pbf.jpeg)"
   ]
  },
  {
   "cell_type": "markdown",
   "metadata": {},
   "source": [
    "Em resumo, os métodos a serem implementados são checkParagraph, compute_feature e finish_document. O método checkParagraph é responsável por verificar cada parágrafo do texto. O método compute_feature é responsável por calcular o resultado da feature desejada, e o finish_document responsável por resetar as variáveis utilizadas no cálculo da feature."
   ]
  },
  {
   "cell_type": "markdown",
   "metadata": {},
   "source": [
    "Vamos implementar esses métodos na subclasse ParagraphBasedFeature de exemplo."
   ]
  },
  {
   "cell_type": "code",
   "execution_count": 5,
   "metadata": {
    "collapsed": false
   },
   "outputs": [],
   "source": [
    "class EnemQuality(ParagraphBasedFeature):\n",
    "    \n",
    "    '''informa a qualidade de uma redação do Enem pelo quesito Coesão, em porcentagem'''\n",
    "    \n",
    "    def __init__(self,name,description,reference,visibility,text_format,feature_time_per_document):\n",
    "        super(ParagraphBasedFeature,self).__init__(name,description,reference,visibility,text_format,feature_time_per_document)\n",
    "        self.int_percent = 0\n",
    "        self.int_parag_counter = 0\n",
    "    \n",
    "    def checkParagraph(self,document,paragraph):\n",
    "        self.int_parag_counter = self.int_parag_counter + 1\n",
    "    \n",
    "    def compute_feature(self,document):\n",
    "        if self.int_parag_counter <= 1:\n",
    "            self.int_percent = 0\n",
    "        elif self.int_parag_counter is 2:\n",
    "            self.int_percent = 15\n",
    "        elif self.int_parag_counter is 3:\n",
    "            self.int_percent = 60\n",
    "        elif self.int_parag_counter is 4:\n",
    "            self.int_percent = 100\n",
    "        elif self.int_parag_counter is 5:\n",
    "            self.int_percent = 50\n",
    "        else:\n",
    "            self.int_percent = 0\n",
    "        \n",
    "        return self.int_percent\n",
    "\n",
    "    def finish_document(self,document):\n",
    "        self.int_parag_counter = 0\n",
    "        self.int_percent = 0\n",
    "        "
   ]
  },
  {
   "cell_type": "markdown",
   "metadata": {},
   "source": [
    "Seguindo esses passos, é possível implementar uma feature ParagraphBasedFeature."
   ]
  },
  {
   "cell_type": "markdown",
   "metadata": {},
   "source": [
    "### Testando a feature implementada"
   ]
  },
  {
   "cell_type": "markdown",
   "metadata": {},
   "source": [
    "Para fazer o teste manual da classe implementada, executamos seus métodos nas suas respectivas funções. Abaixo um código de teste para a execução da feature, em teste unitário."
   ]
  },
  {
   "cell_type": "code",
   "execution_count": 6,
   "metadata": {
    "collapsed": false
   },
   "outputs": [
    {
     "name": "stderr",
     "output_type": "stream",
     "text": [
      "."
     ]
    },
    {
     "name": "stdout",
     "output_type": "stream",
     "text": [
      "A qualidade do texto é de 60%.\n"
     ]
    },
    {
     "name": "stderr",
     "output_type": "stream",
     "text": [
      "\n",
      "----------------------------------------------------------------------\n",
      "Ran 1 test in 0.001s\n",
      "\n",
      "OK\n"
     ]
    },
    {
     "ename": "SystemExit",
     "evalue": "False",
     "output_type": "error",
     "traceback": [
      "An exception has occurred, use %tb to see the full traceback.\n",
      "\u001b[0;31mSystemExit\u001b[0m\u001b[0;31m:\u001b[0m False\n"
     ]
    },
    {
     "name": "stderr",
     "output_type": "stream",
     "text": [
      "/usr/lib/python3/dist-packages/IPython/core/interactiveshell.py:2889: UserWarning: To exit: use 'exit', 'quit', or Ctrl-D.\n",
      "  warn(\"To exit: use 'exit', 'quit', or Ctrl-D.\", stacklevel=1)\n"
     ]
    }
   ],
   "source": [
    "import unittest\n",
    "from feature.features import FeatureVisibilityEnum, Document, FeatureCalculator\n",
    "from utils.basic_entities import FormatEnum, FeatureTimePerDocumentEnum\n",
    "\n",
    "class TestFeatureCalculator(unittest.TestCase):\n",
    "    \n",
    "    def testParagraphCountTest(self):\n",
    "\n",
    "            pcount = EnemQuality(\"EnemQuality\", \"Informa a qualidade de uma redação do Enem pelo quesito Coesão, em porcentagem\", \n",
    "                                             \"Jupyter Notebook documentation, text in https://g1.globo.com/educacao/noticia/2019/10/08/mec-lanca-programa-para-estimular-o-ensino-tecnico.ghtml\", \n",
    "                                             FeatureVisibilityEnum.public, \n",
    "                                             FormatEnum.text_plain, \n",
    "                                             FeatureTimePerDocumentEnum.MILLISECONDS)\n",
    "\n",
    "            document = Document(1,\"doc1\",\"O texto nao precisa -necessariamente - ser o texto que sera testado\")\n",
    "            \n",
    "            par = str(\"Um dos trabalhos usados pelo governo federal para embasar o programa Novos Caminhos,\"\n",
    "            + \" apresentado no site do MEC, apresenta dados que mostram que \" +\n",
    "            '\"a realização de cursos de formação profissional não proporciona, necessariamente, '\n",
    "            + 'maior facilidade para a inserção ocupacional\".')\n",
    "            \n",
    "            pcount.checkParagraph(document, par)\n",
    "            \n",
    "            par = str(\"A conclusão da nota técnica 199, de novembro e 1998,\"\n",
    "            + \"do Departamento Intersindical de Estatísticas e Estudos Socioeconômicos (Dieese)\"\n",
    "            + \" é que isso se deve à característica do mercado brasileiro, mais voltada ao setor de serviços,\"\n",
    "            + \" que não exigem formação técnica.\")\n",
    "            \n",
    "            pcount.checkParagraph(document, par)\n",
    "            \n",
    "            par = str('\"Entre as 20 ocupações mais comuns entre os que concluíram o Técnico,'\n",
    "            + \" treze são também as mais recorrentes entre o total de ocupados com nível médio. \"\n",
    "            + \"Essa constatação leva à reflexão sobre a configuração do mercado de trabalho brasileiro,\"\n",
    "            + \" que se baseia principalmente em postos de trabalho dos setores do comércio e de serviços, \"\n",
    "            + \"que não exigem esse tipo de qualificação, possuem longas jornadas, baixa remuneração e\"\n",
    "            + ' recebem a maior parte dos jovens no primeiro emprego\", afirma o texto.')\n",
    "            \n",
    "            pcount.checkParagraph(document, par)\n",
    "            \n",
    "            int_result = pcount.compute_feature(document)\n",
    "            print(\"A qualidade do texto é de \" + str(int_result) + \"%.\")\n",
    "            pcount.finish_document(document)\n",
    "            self.assertEqual(int_result, 60, \"A porcentagem de qualidade do primeiro documento está incorreta.\")\n",
    "    \n",
    "sys.argv = ['', 'TestFeatureCalculator.testParagraphCountTest']\n",
    "unittest.main()"
   ]
  },
  {
   "cell_type": "code",
   "execution_count": null,
   "metadata": {
    "collapsed": true
   },
   "outputs": [],
   "source": [
    "O resultado do compute_feature deve ser 60, assim como o teste unitário."
   ]
  }
 ],
 "metadata": {
  "kernelspec": {
   "display_name": "Python 3",
   "language": "python",
   "name": "python3"
  },
  "language_info": {
   "codemirror_mode": {
    "name": "ipython",
    "version": 3
   },
   "file_extension": ".py",
   "mimetype": "text/x-python",
   "name": "python",
   "nbconvert_exporter": "python",
   "pygments_lexer": "ipython3",
   "version": "3.5.3"
  }
 },
 "nbformat": 4,
 "nbformat_minor": 2
}
