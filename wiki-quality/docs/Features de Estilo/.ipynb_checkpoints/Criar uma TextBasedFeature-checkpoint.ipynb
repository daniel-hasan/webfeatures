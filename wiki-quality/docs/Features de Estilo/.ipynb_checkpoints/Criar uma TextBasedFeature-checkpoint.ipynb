{
 "cells": [
  {
   "cell_type": "markdown",
   "metadata": {},
   "source": [
    "Comando abaixo apenas para que seja possível importar os modulos corretamente"
   ]
  },
  {
   "cell_type": "code",
   "execution_count": 1,
   "metadata": {
    "collapsed": true
   },
   "outputs": [],
   "source": [
    "import sys\n",
    "sys.path.append(\"../../\")"
   ]
  },
  {
   "cell_type": "markdown",
   "metadata": {},
   "source": [
    "# Criação de Features de Estilo"
   ]
  },
  {
   "cell_type": "markdown",
   "metadata": {},
   "source": [
    "Nessa seção explicaremos como implementar as diferentes features de estilo."
   ]
  },
  {
   "cell_type": "markdown",
   "metadata": {},
   "source": [
    "## Como criar uma TextBasedFeature"
   ]
  },
  {
   "cell_type": "markdown",
   "metadata": {},
   "source": [
    "Uma TextBasedFeature é uma classe de features textuais que calcula o resultado das métricas utilizando os caracteres do texto como parâmetro. Para criar uma feature textbased, fazemos:"
   ]
  },
  {
   "cell_type": "markdown",
   "metadata": {},
   "source": [
    "###### Importamos os módulos necessários:"
   ]
  },
  {
   "cell_type": "code",
   "execution_count": 2,
   "metadata": {
    "collapsed": false
   },
   "outputs": [],
   "source": [
    "from feature.features import TextBasedFeature\n",
    "import nltk\n",
    "import nltk.data\n",
    "from nltk.corpus import stopwords\n",
    "from nltk.tokenize import word_tokenize"
   ]
  },
  {
   "cell_type": "markdown",
   "metadata": {},
   "source": [
    "###### Criamos a classe responsável pela feature:"
   ]
  },
  {
   "cell_type": "code",
   "execution_count": 3,
   "metadata": {
    "collapsed": false
   },
   "outputs": [],
   "source": [
    "class NoisyTextIndex(TextBasedFeature):\n",
    "    '''Calcula o índice de noisy text de um documento'''\n",
    "    \n",
    "    def __init__(self,name,description,reference,visibility,text_format,feature_time_per_document):\n",
    "        super(TextBasedFeature,self).__init__(name,description,reference,visibility,text_format,feature_time_per_document)\n",
    "        self.str_stopword = set(stopwords.words(\"english\"))\n",
    "        self.int_stop_word = 0\n",
    "        self.int_first_text = 0\n",
    "        \n",
    "    def remove(self,text):\n",
    "        list_tokened_words = word_tokenize(text)\n",
    "        list_filtered_text = [word for word in list_tokened_words if not word in self.str_stopword]\n",
    "        return list_filtered_text"
   ]
  },
  {
   "cell_type": "markdown",
   "metadata": {},
   "source": [
    "A classe de exemplo acima herda de TextBasedFeature. Seus atributo são:\n",
    "\n",
    "* str_stopword: uma lista de stop words da língua inglesa;\n",
    "* int_stop_word: número de palavras no texto sem stop words;\n",
    "* int_first_text: número de palavras no texto inicial."
   ]
  },
  {
   "cell_type": "markdown",
   "metadata": {},
   "source": [
    "###### Implementamos os métodos abstratos"
   ]
  },
  {
   "cell_type": "markdown",
   "metadata": {},
   "source": [
    "A classe TextBasedFeature não possui métodos abstratos a serem implementados, porém herda métodos da classe pai FeatureCalculator. Vejamos o diagrama de classes da estrutura de hierarquia."
   ]
  },
  {
   "cell_type": "markdown",
   "metadata": {
    "collapsed": true
   },
   "source": [
    "![title](tbf.jpeg)"
   ]
  },
  {
   "cell_type": "markdown",
   "metadata": {},
   "source": [
    "Em resumo, os métodos a serem implementados são compute_feature e finish_document. O método compute_feature é responsável por calcular o resultado da feature desejada, e o finish_document responsável por resetar as variáveis utilizadas no cálculo da feature."
   ]
  },
  {
   "cell_type": "markdown",
   "metadata": {},
   "source": [
    "Diferente das outras features de estilo, uma TextBasedFeature não tem o método \"check\" padrão. Isso pode ser explicado pela forma de referenciação do texto. Nas outras FeatureBased do projeto, os métodos eram executados várias vezes (por exemplo o checkWord, já que um texto possui várias palavras). Nesse caso, o texto é lido de uma só vez, podendo ser referenciado no método compute_feature de forma direta."
   ]
  },
  {
   "cell_type": "markdown",
   "metadata": {},
   "source": [
    "Vamos implementar esses métodos na subclasse TextBasedFeature de exemplo."
   ]
  },
  {
   "cell_type": "code",
   "execution_count": 4,
   "metadata": {
    "collapsed": true
   },
   "outputs": [],
   "source": [
    "class NoisyTextIndex(TextBasedFeature):\n",
    "    '''Calcula o índice de noisy text de um documento'''\n",
    "    \n",
    "    def __init__(self,name,description,reference,visibility,text_format,feature_time_per_document):\n",
    "        super(TextBasedFeature,self).__init__(name,description,reference,visibility,text_format,feature_time_per_document)\n",
    "        self.str_stopword = set(stopwords.words(\"english\"))\n",
    "        self.int_stop_word = 0\n",
    "        self.int_first_text = 0\n",
    "        \n",
    "    def remove(self,text):\n",
    "        list_tokened_words = word_tokenize(text)\n",
    "        list_filtered_text = [word for word in list_tokened_words if not word in self.str_stopword]\n",
    "        return list_filtered_text\n",
    "\n",
    "    def compute_feature(self,document):\n",
    "        first_text = word_tokenize(document.str_text)\n",
    "        self.int_first_text = len(first_text)\n",
    "        text_final = self.remove(document.str_text)\n",
    "        self.int_stop_word = len(text_final)\n",
    "        return self.int_stop_word/self.int_first_text\n",
    "\n",
    "    def finish_document(self,document):\n",
    "        self.int_stop_word = 0\n",
    "        self.int_first_text = 0"
   ]
  },
  {
   "cell_type": "markdown",
   "metadata": {},
   "source": [
    "Seguindo esses passos, é possível implementar uma feature TextBasedFeature."
   ]
  },
  {
   "cell_type": "markdown",
   "metadata": {},
   "source": [
    "### Testando a feature implementada"
   ]
  },
  {
   "cell_type": "markdown",
   "metadata": {},
   "source": [
    "Para fazer o teste manual da classe implementada, executamos seus métodos nas suas respectivas funções. Abaixo um código de teste para a execução da feature, em teste unitário."
   ]
  },
  {
   "cell_type": "code",
   "execution_count": 5,
   "metadata": {
    "collapsed": false
   },
   "outputs": [
    {
     "name": "stderr",
     "output_type": "stream",
     "text": [
      "."
     ]
    },
    {
     "name": "stdout",
     "output_type": "stream",
     "text": [
      "O índice de noisy text é 0.7142857142857143\n"
     ]
    },
    {
     "name": "stderr",
     "output_type": "stream",
     "text": [
      "\n",
      "----------------------------------------------------------------------\n",
      "Ran 1 test in 0.012s\n",
      "\n",
      "OK\n"
     ]
    },
    {
     "ename": "SystemExit",
     "evalue": "False",
     "output_type": "error",
     "traceback": [
      "An exception has occurred, use %tb to see the full traceback.\n",
      "\u001b[0;31mSystemExit\u001b[0m\u001b[0;31m:\u001b[0m False\n"
     ]
    },
    {
     "name": "stderr",
     "output_type": "stream",
     "text": [
      "/usr/lib/python3/dist-packages/IPython/core/interactiveshell.py:2889: UserWarning: To exit: use 'exit', 'quit', or Ctrl-D.\n",
      "  warn(\"To exit: use 'exit', 'quit', or Ctrl-D.\", stacklevel=1)\n"
     ]
    }
   ],
   "source": [
    "import unittest\n",
    "from feature.features import FeatureVisibilityEnum, Document, FeatureCalculator\n",
    "from utils.basic_entities import FormatEnum, FeatureTimePerDocumentEnum\n",
    "\n",
    "class TestFeatureCalculator(unittest.TestCase):\n",
    "    \n",
    "    def testTextTest(self):\n",
    "\n",
    "            textfeat = NoisyTextIndex(\"NoisyTextIndex\", \"Calcula o índice de noisy text de um documento\", \n",
    "                                             \"Jupyter Notebook documentation\", \n",
    "                                             FeatureVisibilityEnum.public, \n",
    "                                             FormatEnum.text_plain, \n",
    "                                             FeatureTimePerDocumentEnum.MILLISECONDS)\n",
    "\n",
    "            document = Document(1,\"doc1\",\"Hello, I am a friend.\")\n",
    "            \n",
    "            int_result = textfeat.compute_feature(document)\n",
    "            print(\"O índice de noisy text é \" + str(int_result))\n",
    "            textfeat.finish_document(document)\n",
    "            self.assertAlmostEqual(int_result, 0.714, places=3, msg=\"O índice não foi calculado corretamente\")\n",
    "    \n",
    "sys.argv = ['', 'TestFeatureCalculator.testTextTest']\n",
    "unittest.main()\n"
   ]
  },
  {
   "cell_type": "markdown",
   "metadata": {},
   "source": [
    "O resultado do compute_feature deve aproximadamente 0.714, assim como o teste unitário."
   ]
  }
 ],
 "metadata": {
  "kernelspec": {
   "display_name": "Python 3",
   "language": "python",
   "name": "python3"
  },
  "language_info": {
   "codemirror_mode": {
    "name": "ipython",
    "version": 3
   },
   "file_extension": ".py",
   "mimetype": "text/x-python",
   "name": "python",
   "nbconvert_exporter": "python",
   "pygments_lexer": "ipython3",
   "version": "3.5.3"
  }
 },
 "nbformat": 4,
 "nbformat_minor": 2
}
